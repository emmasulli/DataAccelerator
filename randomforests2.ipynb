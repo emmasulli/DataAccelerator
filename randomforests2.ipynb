{
 "cells": [
  {
   "cell_type": "code",
   "execution_count": 1,
   "metadata": {},
   "outputs": [
    {
     "name": "stderr",
     "output_type": "stream",
     "text": [
      "/anaconda/lib/python3.6/site-packages/sklearn/cross_validation.py:44: DeprecationWarning: This module was deprecated in version 0.18 in favor of the model_selection module into which all the refactored classes and functions are moved. Also note that the interface of the new CV iterators are different from that of this module. This module will be removed in 0.20.\n",
      "  \"This module will be removed in 0.20.\", DeprecationWarning)\n",
      "/anaconda/lib/python3.6/site-packages/sklearn/grid_search.py:43: DeprecationWarning: This module was deprecated in version 0.18 in favor of the model_selection module into which all the refactored classes and functions are moved. This module will be removed in 0.20.\n",
      "  DeprecationWarning)\n"
     ]
    }
   ],
   "source": [
    "import numpy as np\n",
    "import pandas as pd\n",
    "import matplotlib.pyplot as plt\n",
    "import seaborn as sns\n",
    "\n",
    "from sklearn import datasets\n",
    "iris = datasets.load_iris()\n",
    "\n",
    "from sklearn.ensemble import RandomForestClassifier\n",
    "from sklearn.preprocessing import LabelEncoder\n",
    "from sklearn import cross_validation\n",
    "from sklearn.grid_search import GridSearchCV\n",
    "from time import time\n",
    "import matplotlib.pyplot as plt\n",
    "from operator import itemgetter"
   ]
  },
  {
   "cell_type": "code",
   "execution_count": 2,
   "metadata": {
    "collapsed": true
   },
   "outputs": [],
   "source": [
    "path = '..//..//..//Documents//Test_sets//Testing_Sample//HOG_testsets_10m//comp//'"
   ]
  },
  {
   "cell_type": "code",
   "execution_count": 3,
   "metadata": {},
   "outputs": [],
   "source": [
    "dataset = pd.read_csv(path+\"Meanfinal//Mean10m_o4p3b1.csv\")"
   ]
  },
  {
   "cell_type": "code",
   "execution_count": 4,
   "metadata": {},
   "outputs": [
    {
     "data": {
      "text/plain": [
       "2710"
      ]
     },
     "execution_count": 4,
     "metadata": {},
     "output_type": "execute_result"
    }
   ],
   "source": [
    "dataset = dataset.drop(['Unnamed: 0'], axis=1)\n",
    "# dataset = dataset.astype(float)\n",
    "len(dataset)"
   ]
  },
  {
   "cell_type": "code",
   "execution_count": 5,
   "metadata": {
    "collapsed": true
   },
   "outputs": [],
   "source": [
    "target = dataset['Selection']\n",
    "data = dataset.drop(['Selection'], axis=1)\n",
    "#data = dataset.drop(['B2','B3','B1','B4','B5','B6', 'B7', 'B8','C1','C2','C3','C4','C5','C6','C7','C8','C9','C10','C11', 'C12', 'C13', 'C14', 'C15','C16','Selection'], axis=1)"
   ]
  },
  {
   "cell_type": "code",
   "execution_count": 6,
   "metadata": {},
   "outputs": [
    {
     "data": {
      "text/plain": [
       "0    1\n",
       "1    1\n",
       "2    1\n",
       "3    1\n",
       "4    1\n",
       "Name: Selection, dtype: int64"
      ]
     },
     "execution_count": 6,
     "metadata": {},
     "output_type": "execute_result"
    }
   ],
   "source": [
    "target.head()"
   ]
  },
  {
   "cell_type": "code",
   "execution_count": 7,
   "metadata": {},
   "outputs": [
    {
     "data": {
      "text/html": [
       "<div>\n",
       "<style>\n",
       "    .dataframe thead tr:only-child th {\n",
       "        text-align: right;\n",
       "    }\n",
       "\n",
       "    .dataframe thead th {\n",
       "        text-align: left;\n",
       "    }\n",
       "\n",
       "    .dataframe tbody tr th {\n",
       "        vertical-align: top;\n",
       "    }\n",
       "</style>\n",
       "<table border=\"1\" class=\"dataframe\">\n",
       "  <thead>\n",
       "    <tr style=\"text-align: right;\">\n",
       "      <th></th>\n",
       "      <th>A</th>\n",
       "      <th>B1</th>\n",
       "      <th>B2</th>\n",
       "      <th>B3</th>\n",
       "      <th>B4</th>\n",
       "      <th>B5</th>\n",
       "      <th>B6</th>\n",
       "      <th>B7</th>\n",
       "      <th>B8</th>\n",
       "      <th>C1</th>\n",
       "      <th>...</th>\n",
       "      <th>C11</th>\n",
       "      <th>C12</th>\n",
       "      <th>C13</th>\n",
       "      <th>C14</th>\n",
       "      <th>C15</th>\n",
       "      <th>C16</th>\n",
       "      <th>mindep</th>\n",
       "      <th>cellav</th>\n",
       "      <th>allav</th>\n",
       "      <th>drange</th>\n",
       "    </tr>\n",
       "  </thead>\n",
       "  <tbody>\n",
       "    <tr>\n",
       "      <th>0</th>\n",
       "      <td>0.699105</td>\n",
       "      <td>0.523597</td>\n",
       "      <td>0.845961</td>\n",
       "      <td>0.707071</td>\n",
       "      <td>7.070568e-01</td>\n",
       "      <td>0.935508</td>\n",
       "      <td>0.642501</td>\n",
       "      <td>0.942804</td>\n",
       "      <td>0.777002</td>\n",
       "      <td>0.757460</td>\n",
       "      <td>...</td>\n",
       "      <td>0.766343</td>\n",
       "      <td>0.734142</td>\n",
       "      <td>0.162051</td>\n",
       "      <td>0.526465</td>\n",
       "      <td>7.070355e-01</td>\n",
       "      <td>0.728974</td>\n",
       "      <td>11.423400</td>\n",
       "      <td>0.301484</td>\n",
       "      <td>-3.038687</td>\n",
       "      <td>0.649180</td>\n",
       "    </tr>\n",
       "    <tr>\n",
       "      <th>1</th>\n",
       "      <td>0.999974</td>\n",
       "      <td>0.142582</td>\n",
       "      <td>0.707075</td>\n",
       "      <td>0.945545</td>\n",
       "      <td>9.999347e-01</td>\n",
       "      <td>0.707076</td>\n",
       "      <td>0.090803</td>\n",
       "      <td>0.793582</td>\n",
       "      <td>0.169831</td>\n",
       "      <td>0.771725</td>\n",
       "      <td>...</td>\n",
       "      <td>0.342583</td>\n",
       "      <td>0.828063</td>\n",
       "      <td>0.471201</td>\n",
       "      <td>0.447688</td>\n",
       "      <td>7.367055e-01</td>\n",
       "      <td>0.568848</td>\n",
       "      <td>7.831703</td>\n",
       "      <td>0.886610</td>\n",
       "      <td>0.553010</td>\n",
       "      <td>2.147247</td>\n",
       "    </tr>\n",
       "    <tr>\n",
       "      <th>2</th>\n",
       "      <td>0.999963</td>\n",
       "      <td>0.550400</td>\n",
       "      <td>0.597798</td>\n",
       "      <td>0.294841</td>\n",
       "      <td>4.276751e-01</td>\n",
       "      <td>0.999954</td>\n",
       "      <td>0.535919</td>\n",
       "      <td>0.581665</td>\n",
       "      <td>0.110038</td>\n",
       "      <td>0.796352</td>\n",
       "      <td>...</td>\n",
       "      <td>0.914972</td>\n",
       "      <td>0.793153</td>\n",
       "      <td>0.155752</td>\n",
       "      <td>0.447560</td>\n",
       "      <td>8.254675e-01</td>\n",
       "      <td>0.501214</td>\n",
       "      <td>8.991404</td>\n",
       "      <td>0.700686</td>\n",
       "      <td>-0.606691</td>\n",
       "      <td>1.367596</td>\n",
       "    </tr>\n",
       "    <tr>\n",
       "      <th>3</th>\n",
       "      <td>0.999910</td>\n",
       "      <td>0.707036</td>\n",
       "      <td>0.999910</td>\n",
       "      <td>0.707046</td>\n",
       "      <td>5.316222e-01</td>\n",
       "      <td>0.707041</td>\n",
       "      <td>0.937026</td>\n",
       "      <td>0.707034</td>\n",
       "      <td>0.325267</td>\n",
       "      <td>0.789565</td>\n",
       "      <td>...</td>\n",
       "      <td>0.999781</td>\n",
       "      <td>0.716628</td>\n",
       "      <td>0.757299</td>\n",
       "      <td>0.315604</td>\n",
       "      <td>6.122590e-17</td>\n",
       "      <td>0.315621</td>\n",
       "      <td>8.273400</td>\n",
       "      <td>0.326139</td>\n",
       "      <td>0.111313</td>\n",
       "      <td>0.684095</td>\n",
       "    </tr>\n",
       "    <tr>\n",
       "      <th>4</th>\n",
       "      <td>0.512527</td>\n",
       "      <td>0.854831</td>\n",
       "      <td>0.999893</td>\n",
       "      <td>0.707051</td>\n",
       "      <td>6.122679e-17</td>\n",
       "      <td>0.707054</td>\n",
       "      <td>0.781595</td>\n",
       "      <td>0.350121</td>\n",
       "      <td>0.524829</td>\n",
       "      <td>0.999885</td>\n",
       "      <td>...</td>\n",
       "      <td>0.599616</td>\n",
       "      <td>0.444587</td>\n",
       "      <td>0.189328</td>\n",
       "      <td>0.315615</td>\n",
       "      <td>7.070513e-01</td>\n",
       "      <td>0.315622</td>\n",
       "      <td>7.240050</td>\n",
       "      <td>0.329985</td>\n",
       "      <td>1.144663</td>\n",
       "      <td>0.757059</td>\n",
       "    </tr>\n",
       "  </tbody>\n",
       "</table>\n",
       "<p>5 rows × 29 columns</p>\n",
       "</div>"
      ],
      "text/plain": [
       "          A        B1        B2        B3            B4        B5        B6  \\\n",
       "0  0.699105  0.523597  0.845961  0.707071  7.070568e-01  0.935508  0.642501   \n",
       "1  0.999974  0.142582  0.707075  0.945545  9.999347e-01  0.707076  0.090803   \n",
       "2  0.999963  0.550400  0.597798  0.294841  4.276751e-01  0.999954  0.535919   \n",
       "3  0.999910  0.707036  0.999910  0.707046  5.316222e-01  0.707041  0.937026   \n",
       "4  0.512527  0.854831  0.999893  0.707051  6.122679e-17  0.707054  0.781595   \n",
       "\n",
       "         B7        B8        C1    ...          C11       C12       C13  \\\n",
       "0  0.942804  0.777002  0.757460    ...     0.766343  0.734142  0.162051   \n",
       "1  0.793582  0.169831  0.771725    ...     0.342583  0.828063  0.471201   \n",
       "2  0.581665  0.110038  0.796352    ...     0.914972  0.793153  0.155752   \n",
       "3  0.707034  0.325267  0.789565    ...     0.999781  0.716628  0.757299   \n",
       "4  0.350121  0.524829  0.999885    ...     0.599616  0.444587  0.189328   \n",
       "\n",
       "        C14           C15       C16     mindep    cellav     allav    drange  \n",
       "0  0.526465  7.070355e-01  0.728974  11.423400  0.301484 -3.038687  0.649180  \n",
       "1  0.447688  7.367055e-01  0.568848   7.831703  0.886610  0.553010  2.147247  \n",
       "2  0.447560  8.254675e-01  0.501214   8.991404  0.700686 -0.606691  1.367596  \n",
       "3  0.315604  6.122590e-17  0.315621   8.273400  0.326139  0.111313  0.684095  \n",
       "4  0.315615  7.070513e-01  0.315622   7.240050  0.329985  1.144663  0.757059  \n",
       "\n",
       "[5 rows x 29 columns]"
      ]
     },
     "execution_count": 7,
     "metadata": {},
     "output_type": "execute_result"
    }
   ],
   "source": [
    "data.head()"
   ]
  },
  {
   "cell_type": "code",
   "execution_count": 8,
   "metadata": {
    "collapsed": true
   },
   "outputs": [],
   "source": [
    "from sklearn.model_selection import train_test_split"
   ]
  },
  {
   "cell_type": "code",
   "execution_count": 9,
   "metadata": {
    "collapsed": true
   },
   "outputs": [],
   "source": [
    "dfList = dataset['Selection'].tolist()"
   ]
  },
  {
   "cell_type": "code",
   "execution_count": 10,
   "metadata": {
    "collapsed": true
   },
   "outputs": [],
   "source": [
    "x_train, x_test, y_train, y_test = train_test_split(data, dfList, test_size=0.3, stratify = target,random_state=16)"
   ]
  },
  {
   "cell_type": "code",
   "execution_count": 11,
   "metadata": {
    "collapsed": true
   },
   "outputs": [],
   "source": [
    "from sklearn.ensemble import RandomForestClassifier"
   ]
  },
  {
   "cell_type": "code",
   "execution_count": 12,
   "metadata": {},
   "outputs": [
    {
     "data": {
      "text/plain": [
       "RandomForestClassifier(bootstrap=True, class_weight=None, criterion='gini',\n",
       "            max_depth=None, max_features='auto', max_leaf_nodes=None,\n",
       "            min_impurity_split=1e-07, min_samples_leaf=1,\n",
       "            min_samples_split=2, min_weight_fraction_leaf=0.0,\n",
       "            n_estimators=100, n_jobs=1, oob_score=True, random_state=None,\n",
       "            verbose=0, warm_start=False)"
      ]
     },
     "execution_count": 12,
     "metadata": {},
     "output_type": "execute_result"
    }
   ],
   "source": [
    "rf = RandomForestClassifier(n_estimators=100, oob_score=True)\n",
    "rf.fit(x_train,y_train)"
   ]
  },
  {
   "cell_type": "code",
   "execution_count": 13,
   "metadata": {},
   "outputs": [
    {
     "name": "stdout",
     "output_type": "stream",
     "text": [
      "Out-of-bag score estimate: 0.696\n",
      "Mean accuracy score: 0.689\n"
     ]
    }
   ],
   "source": [
    "from sklearn.metrics import accuracy_score\n",
    "\n",
    "predicted = rf.predict(x_test)\n",
    "accuracy = accuracy_score (y_test,predicted)\n",
    "\n",
    "print(f'Out-of-bag score estimate: {rf.oob_score_:.3}')\n",
    "print(f'Mean accuracy score: {accuracy:.3}')"
   ]
  },
  {
   "cell_type": "code",
   "execution_count": 14,
   "metadata": {},
   "outputs": [
    {
     "data": {
      "image/png": "[encoded data removed]",
      "text/plain": [
       "<matplotlib.figure.Figure at 0x1184f3278>"
      ]
     },
     "metadata": {},
     "output_type": "display_data"
    }
   ],
   "source": [
    "from sklearn.metrics import confusion_matrix \n",
    "\n",
    "cm = pd.DataFrame(confusion_matrix(y_test,predicted))\n",
    "sns.heatmap(cm, annot = True)\n",
    "plt.show()"
   ]
  },
  {
   "cell_type": "markdown",
   "metadata": {
    "collapsed": true
   },
   "source": []
  }
 ],
 "metadata": {
  "kernelspec": {
   "display_name": "Python 3",
   "language": "python",
   "name": "python3"
  },
  "language_info": {
   "codemirror_mode": {
    "name": "ipython",
    "version": 3
   },
   "file_extension": ".py",
   "mimetype": "text/x-python",
   "name": "python",
   "nbconvert_exporter": "python",
   "pygments_lexer": "ipython3",
   "version": "3.6.1"
  }
 },
 "nbformat": 4,
 "nbformat_minor": 2
}
