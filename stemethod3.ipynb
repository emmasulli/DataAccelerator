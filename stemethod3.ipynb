{
 "cells": [
  {
   "cell_type": "code",
   "execution_count": 1,
   "metadata": {
    "collapsed": true
   },
   "outputs": [],
   "source": [
    "import matplotlib.pyplot as plt\n",
    "import pandas as pd\n",
    "import io\n",
    "import zipfile\n",
    "import requests\n",
    "import geopandas as gpd\n",
    "from shapely.geometry import Point\n",
    "import random"
   ]
  },
  {
   "cell_type": "code",
   "execution_count": 2,
   "metadata": {
    "collapsed": true
   },
   "outputs": [],
   "source": [
    "survey = pd.read_csv('..//..//..//Documents//Test_sets//Testing_sample//HI1509//Scale_25000//Edits//HI1509_MERGE_CORRECTED.csv')\n",
    "\n",
    "geometry = [Point(xy) for xy in zip(survey.X, survey.Y)]\n",
    "crs = {'init': 'epsg:4326'}\n",
    "geosurvey = gpd.GeoDataFrame(survey, crs=crs, geometry=geometry)\n",
    "\n",
    "geosurvey['masked']=0\n",
    "geosurvey['Prediction']=0\n",
    "\n",
    "#copy df copysurvey\n",
    "df_copy = geosurvey.copy()"
   ]
  },
  {
   "cell_type": "code",
   "execution_count": 3,
   "metadata": {
    "collapsed": true
   },
   "outputs": [],
   "source": [
    "#make empty list/df for selection\n",
    "selec_df = gpd.GeoDataFrame(columns=['Y', 'X', 'Depth','Selection', 'masked', 'Prediction'])\n",
    "#df_copy.drop('Unnamed: 0', axis=1)"
   ]
  },
  {
   "cell_type": "code",
   "execution_count": 4,
   "metadata": {
    "collapsed": true
   },
   "outputs": [],
   "source": [
    "# ss = gpd.GeoDataFrame(columns=['Y', 'X', 'Depth','Selection', 'masked', 'Prediction'])"
   ]
  },
  {
   "cell_type": "code",
   "execution_count": 5,
   "metadata": {},
   "outputs": [],
   "source": [
    "# print (len(geosurvey))"
   ]
  },
  {
   "cell_type": "code",
   "execution_count": 6,
   "metadata": {},
   "outputs": [],
   "source": [
    "# #find lowest value\n",
    "# min_val= df_copy['Depth'].min()\n",
    "# print (min_val, \"m was selected\")\n",
    "\n",
    "# #reset indexes\n",
    "# df_copy.reset_index(drop=True, inplace=True)\n",
    "\n",
    "# #find its location in copysurvey\n",
    "# places  =  df_copy[df_copy.Depth == min_val].index\n",
    "\n",
    "# if len(places)> 1:\n",
    "#     pred_index = random.choice(places)\n",
    "# else:\n",
    "#     pred_index = places[0]"
   ]
  },
  {
   "cell_type": "code",
   "execution_count": 7,
   "metadata": {
    "collapsed": true
   },
   "outputs": [],
   "source": [
    "# selec_df =selec_df.append(df_copy.iloc[pred_index])"
   ]
  },
  {
   "cell_type": "code",
   "execution_count": 8,
   "metadata": {
    "collapsed": true
   },
   "outputs": [],
   "source": [
    "# ss = ss.append(df_copy.iloc[pred_index])"
   ]
  },
  {
   "cell_type": "code",
   "execution_count": 9,
   "metadata": {},
   "outputs": [],
   "source": [
    "# df_copy['distoss'] = df_copy.geometry.apply(lambda g: ss.distance(g).min())\n",
    "\n",
    "# df_copy = df_copy[df_copy.distoss > 0.003]"
   ]
  },
  {
   "cell_type": "code",
   "execution_count": 10,
   "metadata": {},
   "outputs": [
    {
     "name": "stdout",
     "output_type": "stream",
     "text": [
      "3815927\n",
      "-1.1 m was selected\n",
      "3806891  data points remaining.\n",
      "-1.0 m was selected\n",
      "3780204  data points remaining.\n",
      "-0.8 m was selected\n",
      "3752381  data points remaining.\n",
      "-0.8 m was selected\n",
      "3727357  data points remaining.\n",
      "-0.7 m was selected\n",
      "3698440  data points remaining.\n",
      "-0.6 m was selected\n",
      "3669840  data points remaining.\n",
      "-0.6 m was selected\n",
      "3644941  data points remaining.\n",
      "-0.5 m was selected\n",
      "3629291  data points remaining.\n",
      "-0.4 m was selected\n",
      "3602722  data points remaining.\n",
      "-0.4 m was selected\n",
      "3578688  data points remaining.\n",
      "-0.4 m was selected\n"
     ]
    },
    {
     "ename": "KeyboardInterrupt",
     "evalue": "",
     "output_type": "error",
     "traceback": [
      "\u001b[0;31m---------------------------------------------------------------------------\u001b[0m",
      "\u001b[0;31mKeyboardInterrupt\u001b[0m                         Traceback (most recent call last)",
      "\u001b[0;32m<ipython-input-10-1254f0955d4c>\u001b[0m in \u001b[0;36m<module>\u001b[0;34m()\u001b[0m\n\u001b[1;32m     37\u001b[0m     \u001b[0;31m# else:\u001b[0m\u001b[0;34m\u001b[0m\u001b[0;34m\u001b[0m\u001b[0m\n\u001b[1;32m     38\u001b[0m     \u001b[0;31m#     distance = 0.006\u001b[0m\u001b[0;34m\u001b[0m\u001b[0;34m\u001b[0m\u001b[0m\n\u001b[0;32m---> 39\u001b[0;31m     \u001b[0mdf_copy\u001b[0m\u001b[0;34m[\u001b[0m\u001b[0;34m'distoss'\u001b[0m\u001b[0;34m]\u001b[0m \u001b[0;34m=\u001b[0m \u001b[0mdf_copy\u001b[0m\u001b[0;34m.\u001b[0m\u001b[0mgeometry\u001b[0m\u001b[0;34m.\u001b[0m\u001b[0mapply\u001b[0m\u001b[0;34m(\u001b[0m\u001b[0;32mlambda\u001b[0m \u001b[0mg\u001b[0m\u001b[0;34m:\u001b[0m \u001b[0mss\u001b[0m\u001b[0;34m.\u001b[0m\u001b[0mdistance\u001b[0m\u001b[0;34m(\u001b[0m\u001b[0mg\u001b[0m\u001b[0;34m)\u001b[0m\u001b[0;34m.\u001b[0m\u001b[0mmin\u001b[0m\u001b[0;34m(\u001b[0m\u001b[0;34m)\u001b[0m\u001b[0;34m)\u001b[0m\u001b[0;34m\u001b[0m\u001b[0m\n\u001b[0m\u001b[1;32m     40\u001b[0m \u001b[0;34m\u001b[0m\u001b[0m\n\u001b[1;32m     41\u001b[0m     \u001b[0mdf_copy\u001b[0m \u001b[0;34m=\u001b[0m \u001b[0mdf_copy\u001b[0m\u001b[0;34m[\u001b[0m\u001b[0mdf_copy\u001b[0m\u001b[0;34m.\u001b[0m\u001b[0mdistoss\u001b[0m \u001b[0;34m>\u001b[0m \u001b[0;36m0.003\u001b[0m\u001b[0;34m]\u001b[0m\u001b[0;34m\u001b[0m\u001b[0m\n",
      "\u001b[0;32m/anaconda/lib/python3.6/site-packages/pandas/core/series.py\u001b[0m in \u001b[0;36mapply\u001b[0;34m(self, func, convert_dtype, args, **kwds)\u001b[0m\n\u001b[1;32m   2353\u001b[0m             \u001b[0;32melse\u001b[0m\u001b[0;34m:\u001b[0m\u001b[0;34m\u001b[0m\u001b[0m\n\u001b[1;32m   2354\u001b[0m                 \u001b[0mvalues\u001b[0m \u001b[0;34m=\u001b[0m \u001b[0mself\u001b[0m\u001b[0;34m.\u001b[0m\u001b[0masobject\u001b[0m\u001b[0;34m\u001b[0m\u001b[0m\n\u001b[0;32m-> 2355\u001b[0;31m                 \u001b[0mmapped\u001b[0m \u001b[0;34m=\u001b[0m \u001b[0mlib\u001b[0m\u001b[0;34m.\u001b[0m\u001b[0mmap_infer\u001b[0m\u001b[0;34m(\u001b[0m\u001b[0mvalues\u001b[0m\u001b[0;34m,\u001b[0m \u001b[0mf\u001b[0m\u001b[0;34m,\u001b[0m \u001b[0mconvert\u001b[0m\u001b[0;34m=\u001b[0m\u001b[0mconvert_dtype\u001b[0m\u001b[0;34m)\u001b[0m\u001b[0;34m\u001b[0m\u001b[0m\n\u001b[0m\u001b[1;32m   2356\u001b[0m \u001b[0;34m\u001b[0m\u001b[0m\n\u001b[1;32m   2357\u001b[0m         \u001b[0;32mif\u001b[0m \u001b[0mlen\u001b[0m\u001b[0;34m(\u001b[0m\u001b[0mmapped\u001b[0m\u001b[0;34m)\u001b[0m \u001b[0;32mand\u001b[0m \u001b[0misinstance\u001b[0m\u001b[0;34m(\u001b[0m\u001b[0mmapped\u001b[0m\u001b[0;34m[\u001b[0m\u001b[0;36m0\u001b[0m\u001b[0;34m]\u001b[0m\u001b[0;34m,\u001b[0m \u001b[0mSeries\u001b[0m\u001b[0;34m)\u001b[0m\u001b[0;34m:\u001b[0m\u001b[0;34m\u001b[0m\u001b[0m\n",
      "\u001b[0;32mpandas/_libs/src/inference.pyx\u001b[0m in \u001b[0;36mpandas._libs.lib.map_infer (pandas/_libs/lib.c:66440)\u001b[0;34m()\u001b[0m\n",
      "\u001b[0;32m<ipython-input-10-1254f0955d4c>\u001b[0m in \u001b[0;36m<lambda>\u001b[0;34m(g)\u001b[0m\n\u001b[1;32m     37\u001b[0m     \u001b[0;31m# else:\u001b[0m\u001b[0;34m\u001b[0m\u001b[0;34m\u001b[0m\u001b[0m\n\u001b[1;32m     38\u001b[0m     \u001b[0;31m#     distance = 0.006\u001b[0m\u001b[0;34m\u001b[0m\u001b[0;34m\u001b[0m\u001b[0m\n\u001b[0;32m---> 39\u001b[0;31m     \u001b[0mdf_copy\u001b[0m\u001b[0;34m[\u001b[0m\u001b[0;34m'distoss'\u001b[0m\u001b[0;34m]\u001b[0m \u001b[0;34m=\u001b[0m \u001b[0mdf_copy\u001b[0m\u001b[0;34m.\u001b[0m\u001b[0mgeometry\u001b[0m\u001b[0;34m.\u001b[0m\u001b[0mapply\u001b[0m\u001b[0;34m(\u001b[0m\u001b[0;32mlambda\u001b[0m \u001b[0mg\u001b[0m\u001b[0;34m:\u001b[0m \u001b[0mss\u001b[0m\u001b[0;34m.\u001b[0m\u001b[0mdistance\u001b[0m\u001b[0;34m(\u001b[0m\u001b[0mg\u001b[0m\u001b[0;34m)\u001b[0m\u001b[0;34m.\u001b[0m\u001b[0mmin\u001b[0m\u001b[0;34m(\u001b[0m\u001b[0;34m)\u001b[0m\u001b[0;34m)\u001b[0m\u001b[0;34m\u001b[0m\u001b[0m\n\u001b[0m\u001b[1;32m     40\u001b[0m \u001b[0;34m\u001b[0m\u001b[0m\n\u001b[1;32m     41\u001b[0m     \u001b[0mdf_copy\u001b[0m \u001b[0;34m=\u001b[0m \u001b[0mdf_copy\u001b[0m\u001b[0;34m[\u001b[0m\u001b[0mdf_copy\u001b[0m\u001b[0;34m.\u001b[0m\u001b[0mdistoss\u001b[0m \u001b[0;34m>\u001b[0m \u001b[0;36m0.003\u001b[0m\u001b[0;34m]\u001b[0m\u001b[0;34m\u001b[0m\u001b[0m\n",
      "\u001b[0;32m/anaconda/lib/python3.6/site-packages/geopandas/base.py\u001b[0m in \u001b[0;36mdistance\u001b[0;34m(self, other)\u001b[0m\n\u001b[1;32m    243\u001b[0m     \u001b[0;32mdef\u001b[0m \u001b[0mdistance\u001b[0m\u001b[0;34m(\u001b[0m\u001b[0mself\u001b[0m\u001b[0;34m,\u001b[0m \u001b[0mother\u001b[0m\u001b[0;34m)\u001b[0m\u001b[0;34m:\u001b[0m\u001b[0;34m\u001b[0m\u001b[0m\n\u001b[1;32m    244\u001b[0m         \u001b[0;34m\"\"\"Return distance of each geometry to *other*\"\"\"\u001b[0m\u001b[0;34m\u001b[0m\u001b[0m\n\u001b[0;32m--> 245\u001b[0;31m         \u001b[0;32mreturn\u001b[0m \u001b[0m_series_op\u001b[0m\u001b[0;34m(\u001b[0m\u001b[0mself\u001b[0m\u001b[0;34m,\u001b[0m \u001b[0mother\u001b[0m\u001b[0;34m,\u001b[0m \u001b[0;34m'distance'\u001b[0m\u001b[0;34m)\u001b[0m\u001b[0;34m\u001b[0m\u001b[0m\n\u001b[0m\u001b[1;32m    246\u001b[0m \u001b[0;34m\u001b[0m\u001b[0m\n\u001b[1;32m    247\u001b[0m     \u001b[0;31m#\u001b[0m\u001b[0;34m\u001b[0m\u001b[0;34m\u001b[0m\u001b[0m\n",
      "\u001b[0;32m/anaconda/lib/python3.6/site-packages/geopandas/base.py\u001b[0m in \u001b[0;36m_series_op\u001b[0;34m(this, other, op, **kwargs)\u001b[0m\n\u001b[1;32m     52\u001b[0m     \u001b[0;32melse\u001b[0m\u001b[0;34m:\u001b[0m\u001b[0;34m\u001b[0m\u001b[0m\n\u001b[1;32m     53\u001b[0m         return Series([getattr(s, op)(other, **kwargs) if s else null_val\n\u001b[0;32m---> 54\u001b[0;31m                       for s in this.geometry], index=this.index)\n\u001b[0m\u001b[1;32m     55\u001b[0m \u001b[0;34m\u001b[0m\u001b[0m\n\u001b[1;32m     56\u001b[0m \u001b[0;34m\u001b[0m\u001b[0m\n",
      "\u001b[0;31mKeyboardInterrupt\u001b[0m: "
     ]
    }
   ],
   "source": [
    "ss = gpd.GeoDataFrame(columns=['Y', 'X', 'Depth','Selection', 'masked', 'Prediction'])\n",
    "\n",
    "print (len(geosurvey))\n",
    "\n",
    "while len(df_copy) > 0:\n",
    "    #find lowest value\n",
    "    min_val= df_copy['Depth'].min()\n",
    "    print (min_val, \"m was selected\")\n",
    "\n",
    "    #reset indexes\n",
    "    df_copy.reset_index(drop=True, inplace=True)\n",
    "    \n",
    "    ss = gpd.GeoDataFrame(columns=['Y', 'X', 'Depth','Selection', 'masked', 'Prediction'])\n",
    "    \n",
    "    #find its location in copysurvey\n",
    "    places  =  df_copy[df_copy.Depth == min_val].index\n",
    "\n",
    "    if len(places)> 1:\n",
    "        pred_index = random.choice(places)\n",
    "    else:\n",
    "        pred_index = places[0]\n",
    "    #print (pred_index)\n",
    "\n",
    "    # add it as a record to the selection list\n",
    "    selec_df =selec_df.append(df_copy.iloc[pred_index])\n",
    "\n",
    "    ss = ss.append(df_copy.iloc[pred_index])\n",
    "\n",
    "    #create buffer around selected point\n",
    "    #\n",
    "    # if min_val < 6:\n",
    "    #     distance = 0.002\n",
    "    # elif min_val < 15:\n",
    "    #     distance = 0.003\n",
    "    # elif min_val <30:\n",
    "    #     distance = 0.004\n",
    "    # else:\n",
    "    #     distance = 0.006\n",
    "    df_copy['distoss'] = df_copy.geometry.apply(lambda g: ss.distance(g).min())\n",
    "\n",
    "    df_copy = df_copy[df_copy.distoss > 0.003]\n",
    "\n",
    "    print(len(df_copy), \" data points remaining.\")\n"
   ]
  },
  {
   "cell_type": "code",
   "execution_count": null,
   "metadata": {
    "collapsed": true
   },
   "outputs": [],
   "source": []
  }
 ],
 "metadata": {
  "kernelspec": {
   "display_name": "Python 3",
   "language": "python",
   "name": "python3"
  },
  "language_info": {
   "codemirror_mode": {
    "name": "ipython",
    "version": 3
   },
   "file_extension": ".py",
   "mimetype": "text/x-python",
   "name": "python",
   "nbconvert_exporter": "python",
   "pygments_lexer": "ipython3",
   "version": "3.6.1"
  }
 },
 "nbformat": 4,
 "nbformat_minor": 2
}
