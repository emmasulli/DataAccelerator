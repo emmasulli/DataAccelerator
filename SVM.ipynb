{
 "cells": [
  {
   "cell_type": "code",
   "execution_count": 1,
   "metadata": {
    "collapsed": true
   },
   "outputs": [],
   "source": [
    "#https://www.analyticsvidhya.com/blog/2017/09/understaing-support-vector-machine-example-code/\n",
    "#http://scikit-learn.org/stable/modules/svm.html"
   ]
  },
  {
   "cell_type": "code",
   "execution_count": 2,
   "metadata": {
    "collapsed": true
   },
   "outputs": [],
   "source": [
    "#import libraries\n",
    "from sklearn import svm,datasets\n",
    "import numpy as np\n",
    "import matplotlib.pyplot as plt\n",
    "\n",
    "import pandas as pd\n",
    "import io\n",
    "import zipfile\n",
    "import requests\n",
    "import geopandas as gpd\n",
    "import shapely.geometry\n",
    "from shapely.geometry import Point\n",
    "import pyproj\n",
    "import math\n",
    "import os, sys\n",
    "\n",
    "from skimage.feature import hog\n",
    "from skimage import data, exposure"
   ]
  },
  {
   "cell_type": "code",
   "execution_count": 3,
   "metadata": {
    "collapsed": true
   },
   "outputs": [],
   "source": [
    "path = '..//..//..//Documents//Test_sets//Testing_Sample//HOG_testsets_10m//comp//'"
   ]
  },
  {
   "cell_type": "code",
   "execution_count": 4,
   "metadata": {},
   "outputs": [],
   "source": [
    "dataset = pd.read_csv(path+\"Meanfinal//Mean10m_o4p5b1.csv\")"
   ]
  },
  {
   "cell_type": "code",
   "execution_count": 5,
   "metadata": {},
   "outputs": [
    {
     "data": {
      "text/plain": [
       "2710"
      ]
     },
     "execution_count": 5,
     "metadata": {},
     "output_type": "execute_result"
    }
   ],
   "source": [
    "dataset = dataset.drop(['Unnamed: 0'], axis=1)\n",
    "# dataset = dataset.astype(float)\n",
    "len(dataset)"
   ]
  },
  {
   "cell_type": "markdown",
   "metadata": {
    "collapsed": true
   },
   "source": [
    "In machine learning, support vector machines (SVMs, also support vector networks[1]) are supervised learning models with associated learning algorithms that analyze data and recognize patterns, used for classification and regression analysis. The basic SVM takes a set of input data and predicts, for each given input, which of two possible classes forms the output, making it a non-probabilistic binary linear classifier. Given a set of training examples, each marked as belonging to one of two categories, an SVM training algorithm builds a model that assigns new examples into one category or the other. An SVM model is a representation of the examples as points in space, mapped so that the examples of the separate categories are divided by a clear gap that is as wide as possible. New examples are then mapped into that same space and predicted to belong to a category based on which side of the gap they fall on. In addition to performing linear classification, SVMs can efficiently perform non-linear classification using what is called the kernel trick, implicitly mapping their inputs into high-dimensional feature spaces.\n",
    "\n",
    "The logit model we just implemented was great in that it showed exactly where to draw our decision boundary or our 'survival cut off'. But if you’re like me, you could have thought, \"So uhhh, what if a straight line just doesn’t cut it\". A linear line is okay, but can we do better? Perhaps a more complex decision boundary like a wave, circle, or maybe some sort of strange polygon would describe the variance observed in our sample better than a line. Imagine if we were predicating survival based on age. It could be a linear decision boundary, meaning each additional time you've gone around the sun you were 1 unit more or less likely to survive. But I think it could be easy to imagine some sort of curve, where a young healthy person would have the best chance of survival, and sadly the very old and very young a like: a poor chance. Now that’s a interesting question to answer. But our logit model can only evaluate a linear decision boundary. How do we get around this? With the usual answer to life the universe and everything;  $MATH$."
   ]
  },
  {
   "cell_type": "code",
   "execution_count": 6,
   "metadata": {},
   "outputs": [
    {
     "name": "stdout",
     "output_type": "stream",
     "text": [
      "          A        B1        B2        B3        B4        B5        B6  \\\n",
      "0  0.426813  0.653130  0.318596  0.530206  0.742973  0.818164  0.619180   \n",
      "1  0.932927  0.734760  0.719825  0.747291  0.670498  0.773859  0.421832   \n",
      "2  0.668088  0.768380  0.599669  0.275217  0.659798  0.851904  0.838322   \n",
      "3  0.875350  0.660110  0.999942  0.865506  0.153837  0.433640  0.797535   \n",
      "4  0.894774  0.839883  0.964893  0.636252  0.038287  0.707062  0.980859   \n",
      "\n",
      "         B7        B8        C1    ...          C11       C12       C13  \\\n",
      "0  0.760607  0.678575  0.365601    ...     0.000000  0.000000  0.000000   \n",
      "1  0.484944  0.689244  0.690450    ...     0.864885  0.592226  0.576842   \n",
      "2  0.297506  0.370237  0.881203    ...     0.689392  0.875435  0.699040   \n",
      "3  0.695872  0.123011  0.723914    ...     0.998467  0.926277  0.858568   \n",
      "4  0.317538  0.309171  0.987162    ...     0.936411  0.547121  0.269800   \n",
      "\n",
      "        C14       C15       C16     mindep    cellav     allav    drange  \n",
      "0  0.000000  0.000000  0.452999  11.423400  0.551246 -3.038687  1.270170  \n",
      "1  0.372612  0.515357  0.745159   7.831703  1.213040  0.553010  3.151387  \n",
      "2  0.397817  0.270692  0.555477   8.991404  0.887717 -0.606691  1.367596  \n",
      "3  0.395947  0.079444  0.353025   7.875178  0.566956  0.509535  1.279099  \n",
      "4  0.379469  0.360408  0.638547   6.486010  0.621202  1.898703  1.306356  \n",
      "\n",
      "[5 rows x 29 columns]\n",
      "0    1\n",
      "1    1\n",
      "2    1\n",
      "3    1\n",
      "4    1\n",
      "Name: Selection, dtype: int64\n"
     ]
    }
   ],
   "source": [
    "from sklearn.model_selection import cross_val_score, KFold\n",
    "target = dataset['Selection']\n",
    "data = dataset.drop(['Selection'], axis=1)\n",
    "\n",
    "print(data.head())\n",
    "print(target.head())"
   ]
  },
  {
   "cell_type": "code",
   "execution_count": null,
   "metadata": {
    "collapsed": true
   },
   "outputs": [],
   "source": []
  },
  {
   "cell_type": "code",
   "execution_count": 7,
   "metadata": {
    "collapsed": true
   },
   "outputs": [],
   "source": [
    "dfList = dataset['Selection'].tolist()"
   ]
  },
  {
   "cell_type": "code",
   "execution_count": 8,
   "metadata": {
    "collapsed": true
   },
   "outputs": [],
   "source": [
    "from sklearn.model_selection import train_test_split"
   ]
  },
  {
   "cell_type": "code",
   "execution_count": 17,
   "metadata": {
    "collapsed": true
   },
   "outputs": [],
   "source": [
    "x_train, x_test, y_train, y_test = train_test_split(data, dfList, test_size=0.3, stratify = target,random_state=16)"
   ]
  },
  {
   "cell_type": "code",
   "execution_count": 21,
   "metadata": {
    "collapsed": true
   },
   "outputs": [],
   "source": [
    "clf = svm.SVC(kernel='rbf', C = 6, gamma = 0.04)"
   ]
  },
  {
   "cell_type": "code",
   "execution_count": null,
   "metadata": {
    "collapsed": true
   },
   "outputs": [],
   "source": [
    "{'C': 6, 'gamma': 0.03, 'kernel': 'rbf'}"
   ]
  },
  {
   "cell_type": "code",
   "execution_count": 22,
   "metadata": {},
   "outputs": [
    {
     "data": {
      "text/plain": [
       "SVC(C=6, cache_size=200, class_weight=None, coef0=0.0,\n",
       "  decision_function_shape=None, degree=3, gamma=0.04, kernel='rbf',\n",
       "  max_iter=-1, probability=False, random_state=None, shrinking=True,\n",
       "  tol=0.001, verbose=False)"
      ]
     },
     "execution_count": 22,
     "metadata": {},
     "output_type": "execute_result"
    }
   ],
   "source": [
    "clf.fit(x_train,y_train)"
   ]
  },
  {
   "cell_type": "code",
   "execution_count": null,
   "metadata": {},
   "outputs": [],
   "source": []
  },
  {
   "cell_type": "code",
   "execution_count": 23,
   "metadata": {},
   "outputs": [
    {
     "name": "stdout",
     "output_type": "stream",
     "text": [
      "Mean accuracy score: 0.685\n"
     ]
    }
   ],
   "source": [
    "from sklearn.metrics import accuracy_score\n",
    "\n",
    "predicted = clf.predict(x_test)\n",
    "accuracy = accuracy_score (y_test,predicted)\n",
    "\n",
    "# print(f'Out-of-bag score estimate: {clf.oob_score_:.3}')\n",
    "print(f'Mean accuracy score: {accuracy:.3}')"
   ]
  },
  {
   "cell_type": "code",
   "execution_count": 13,
   "metadata": {},
   "outputs": [],
   "source": [
    "x_train = x_train.astype(float)\n",
    "# y_train = y_train.astype(float)\n",
    "x_test = x_test.astype(float)\n",
    "# y_test = y_test.astype(float)\n"
   ]
  },
  {
   "cell_type": "code",
   "execution_count": 14,
   "metadata": {
    "collapsed": true
   },
   "outputs": [],
   "source": [
    "from sklearn.model_selection import GridSearchCV "
   ]
  },
  {
   "cell_type": "code",
   "execution_count": 15,
   "metadata": {},
   "outputs": [
    {
     "ename": "NameError",
     "evalue": "name 'confusion_matrix' is not defined",
     "output_type": "error",
     "traceback": [
      "\u001b[0;31m---------------------------------------------------------------------------\u001b[0m",
      "\u001b[0;31mNameError\u001b[0m                                 Traceback (most recent call last)",
      "\u001b[0;32m<ipython-input-15-720e469e9bfa>\u001b[0m in \u001b[0;36m<module>\u001b[0;34m()\u001b[0m\n\u001b[1;32m      7\u001b[0m \u001b[0mgrid\u001b[0m\u001b[0;34m.\u001b[0m\u001b[0mfit\u001b[0m\u001b[0;34m(\u001b[0m\u001b[0mx_train\u001b[0m\u001b[0;34m,\u001b[0m \u001b[0my_train\u001b[0m\u001b[0;34m)\u001b[0m\u001b[0;34m\u001b[0m\u001b[0m\n\u001b[1;32m      8\u001b[0m \u001b[0mpredicted\u001b[0m \u001b[0;34m=\u001b[0m \u001b[0mgrid\u001b[0m\u001b[0;34m.\u001b[0m\u001b[0mpredict\u001b[0m\u001b[0;34m(\u001b[0m\u001b[0mx_test\u001b[0m\u001b[0;34m)\u001b[0m\u001b[0;34m\u001b[0m\u001b[0m\n\u001b[0;32m----> 9\u001b[0;31m \u001b[0mcnf_matrix\u001b[0m \u001b[0;34m=\u001b[0m \u001b[0mconfusion_matrix\u001b[0m\u001b[0;34m(\u001b[0m\u001b[0my_test\u001b[0m\u001b[0;34m,\u001b[0m \u001b[0mpredicted\u001b[0m\u001b[0;34m)\u001b[0m\u001b[0;34m\u001b[0m\u001b[0m\n\u001b[0m\u001b[1;32m     10\u001b[0m \u001b[0mprint\u001b[0m\u001b[0;34m(\u001b[0m\u001b[0mcnf_matrix\u001b[0m\u001b[0;34m)\u001b[0m\u001b[0;34m\u001b[0m\u001b[0m\n",
      "\u001b[0;31mNameError\u001b[0m: name 'confusion_matrix' is not defined"
     ]
    }
   ],
   "source": [
    "from sklearn.model_selection import GridSearchCV \n",
    "\n",
    "parameters = {'kernel':('linear', 'rbf'), 'C':[1,2,3,4,5,6,7,8,9,10], 'gamma': \n",
    "              [0.01,0.02,0.03,0.04,0.05,0.10,0.2,0.3,0.4,0.5]}\n",
    "svr = svm.SVC()\n",
    "grid = GridSearchCV(svr, parameters)\n",
    "grid.fit(x_train, y_train)\n",
    "predicted = grid.predict(x_test)\n",
    "cnf_matrix = confusion_matrix(y_test, predicted)\n",
    "print(cnf_matrix)"
   ]
  },
  {
   "cell_type": "code",
   "execution_count": 16,
   "metadata": {},
   "outputs": [
    {
     "data": {
      "text/plain": [
       "{'C': 6, 'gamma': 0.03, 'kernel': 'rbf'}"
      ]
     },
     "execution_count": 16,
     "metadata": {},
     "output_type": "execute_result"
    }
   ],
   "source": [
    "grid.best_params_"
   ]
  },
  {
   "cell_type": "code",
   "execution_count": 16,
   "metadata": {},
   "outputs": [
    {
     "name": "stdout",
     "output_type": "stream",
     "text": [
      "# Tuning hyper-parameters for precision\n",
      "\n",
      "Best parameters set found on development set:\n",
      "\n",
      "{'C': 3, 'gamma': 0.04, 'kernel': 'rbf'}\n",
      "\n",
      "Grid scores on development set:\n",
      "\n",
      "0.672 (+/-0.046) for {'C': 1, 'gamma': 0.01, 'kernel': 'linear'}\n",
      "0.664 (+/-0.045) for {'C': 1, 'gamma': 0.01, 'kernel': 'rbf'}\n",
      "0.672 (+/-0.046) for {'C': 1, 'gamma': 0.02, 'kernel': 'linear'}\n",
      "0.667 (+/-0.050) for {'C': 1, 'gamma': 0.02, 'kernel': 'rbf'}\n",
      "0.672 (+/-0.046) for {'C': 1, 'gamma': 0.03, 'kernel': 'linear'}\n",
      "0.668 (+/-0.050) for {'C': 1, 'gamma': 0.03, 'kernel': 'rbf'}\n",
      "0.672 (+/-0.046) for {'C': 1, 'gamma': 0.04, 'kernel': 'linear'}\n",
      "0.673 (+/-0.027) for {'C': 1, 'gamma': 0.04, 'kernel': 'rbf'}\n",
      "0.672 (+/-0.046) for {'C': 1, 'gamma': 0.05, 'kernel': 'linear'}\n",
      "0.675 (+/-0.040) for {'C': 1, 'gamma': 0.05, 'kernel': 'rbf'}\n",
      "0.672 (+/-0.046) for {'C': 1, 'gamma': 0.1, 'kernel': 'linear'}\n",
      "0.670 (+/-0.016) for {'C': 1, 'gamma': 0.1, 'kernel': 'rbf'}\n",
      "0.672 (+/-0.046) for {'C': 1, 'gamma': 0.2, 'kernel': 'linear'}\n",
      "0.667 (+/-0.017) for {'C': 1, 'gamma': 0.2, 'kernel': 'rbf'}\n",
      "0.672 (+/-0.046) for {'C': 1, 'gamma': 0.3, 'kernel': 'linear'}\n",
      "0.670 (+/-0.022) for {'C': 1, 'gamma': 0.3, 'kernel': 'rbf'}\n",
      "0.672 (+/-0.046) for {'C': 1, 'gamma': 0.4, 'kernel': 'linear'}\n",
      "0.668 (+/-0.018) for {'C': 1, 'gamma': 0.4, 'kernel': 'rbf'}\n",
      "0.672 (+/-0.046) for {'C': 1, 'gamma': 0.5, 'kernel': 'linear'}\n",
      "0.664 (+/-0.021) for {'C': 1, 'gamma': 0.5, 'kernel': 'rbf'}\n",
      "0.668 (+/-0.048) for {'C': 2, 'gamma': 0.01, 'kernel': 'linear'}\n",
      "0.674 (+/-0.054) for {'C': 2, 'gamma': 0.01, 'kernel': 'rbf'}\n",
      "0.668 (+/-0.048) for {'C': 2, 'gamma': 0.02, 'kernel': 'linear'}\n",
      "0.675 (+/-0.059) for {'C': 2, 'gamma': 0.02, 'kernel': 'rbf'}\n",
      "0.668 (+/-0.048) for {'C': 2, 'gamma': 0.03, 'kernel': 'linear'}\n",
      "0.673 (+/-0.036) for {'C': 2, 'gamma': 0.03, 'kernel': 'rbf'}\n",
      "0.668 (+/-0.048) for {'C': 2, 'gamma': 0.04, 'kernel': 'linear'}\n",
      "0.673 (+/-0.040) for {'C': 2, 'gamma': 0.04, 'kernel': 'rbf'}\n",
      "0.668 (+/-0.048) for {'C': 2, 'gamma': 0.05, 'kernel': 'linear'}\n",
      "0.674 (+/-0.036) for {'C': 2, 'gamma': 0.05, 'kernel': 'rbf'}\n",
      "0.668 (+/-0.048) for {'C': 2, 'gamma': 0.1, 'kernel': 'linear'}\n",
      "0.670 (+/-0.024) for {'C': 2, 'gamma': 0.1, 'kernel': 'rbf'}\n",
      "0.668 (+/-0.048) for {'C': 2, 'gamma': 0.2, 'kernel': 'linear'}\n",
      "0.662 (+/-0.030) for {'C': 2, 'gamma': 0.2, 'kernel': 'rbf'}\n",
      "0.668 (+/-0.048) for {'C': 2, 'gamma': 0.3, 'kernel': 'linear'}\n",
      "0.661 (+/-0.030) for {'C': 2, 'gamma': 0.3, 'kernel': 'rbf'}\n",
      "0.668 (+/-0.048) for {'C': 2, 'gamma': 0.4, 'kernel': 'linear'}\n",
      "0.658 (+/-0.032) for {'C': 2, 'gamma': 0.4, 'kernel': 'rbf'}\n",
      "0.668 (+/-0.048) for {'C': 2, 'gamma': 0.5, 'kernel': 'linear'}\n",
      "0.653 (+/-0.021) for {'C': 2, 'gamma': 0.5, 'kernel': 'rbf'}\n",
      "0.667 (+/-0.045) for {'C': 3, 'gamma': 0.01, 'kernel': 'linear'}\n",
      "0.673 (+/-0.060) for {'C': 3, 'gamma': 0.01, 'kernel': 'rbf'}\n",
      "0.667 (+/-0.045) for {'C': 3, 'gamma': 0.02, 'kernel': 'linear'}\n",
      "0.671 (+/-0.052) for {'C': 3, 'gamma': 0.02, 'kernel': 'rbf'}\n",
      "0.667 (+/-0.045) for {'C': 3, 'gamma': 0.03, 'kernel': 'linear'}\n",
      "0.674 (+/-0.046) for {'C': 3, 'gamma': 0.03, 'kernel': 'rbf'}\n",
      "0.667 (+/-0.045) for {'C': 3, 'gamma': 0.04, 'kernel': 'linear'}\n",
      "0.679 (+/-0.043) for {'C': 3, 'gamma': 0.04, 'kernel': 'rbf'}\n",
      "0.667 (+/-0.045) for {'C': 3, 'gamma': 0.05, 'kernel': 'linear'}\n",
      "0.677 (+/-0.033) for {'C': 3, 'gamma': 0.05, 'kernel': 'rbf'}\n",
      "0.667 (+/-0.045) for {'C': 3, 'gamma': 0.1, 'kernel': 'linear'}\n",
      "0.664 (+/-0.029) for {'C': 3, 'gamma': 0.1, 'kernel': 'rbf'}\n",
      "0.667 (+/-0.045) for {'C': 3, 'gamma': 0.2, 'kernel': 'linear'}\n",
      "0.655 (+/-0.046) for {'C': 3, 'gamma': 0.2, 'kernel': 'rbf'}\n",
      "0.667 (+/-0.045) for {'C': 3, 'gamma': 0.3, 'kernel': 'linear'}\n",
      "0.654 (+/-0.038) for {'C': 3, 'gamma': 0.3, 'kernel': 'rbf'}\n",
      "0.667 (+/-0.045) for {'C': 3, 'gamma': 0.4, 'kernel': 'linear'}\n",
      "0.643 (+/-0.036) for {'C': 3, 'gamma': 0.4, 'kernel': 'rbf'}\n",
      "0.667 (+/-0.045) for {'C': 3, 'gamma': 0.5, 'kernel': 'linear'}\n",
      "0.640 (+/-0.030) for {'C': 3, 'gamma': 0.5, 'kernel': 'rbf'}\n",
      "0.666 (+/-0.041) for {'C': 4, 'gamma': 0.01, 'kernel': 'linear'}\n",
      "0.676 (+/-0.060) for {'C': 4, 'gamma': 0.01, 'kernel': 'rbf'}\n",
      "0.666 (+/-0.041) for {'C': 4, 'gamma': 0.02, 'kernel': 'linear'}\n",
      "0.672 (+/-0.046) for {'C': 4, 'gamma': 0.02, 'kernel': 'rbf'}\n",
      "0.666 (+/-0.041) for {'C': 4, 'gamma': 0.03, 'kernel': 'linear'}\n",
      "0.672 (+/-0.039) for {'C': 4, 'gamma': 0.03, 'kernel': 'rbf'}\n",
      "0.666 (+/-0.041) for {'C': 4, 'gamma': 0.04, 'kernel': 'linear'}\n",
      "0.676 (+/-0.038) for {'C': 4, 'gamma': 0.04, 'kernel': 'rbf'}\n",
      "0.666 (+/-0.041) for {'C': 4, 'gamma': 0.05, 'kernel': 'linear'}\n",
      "0.673 (+/-0.038) for {'C': 4, 'gamma': 0.05, 'kernel': 'rbf'}\n",
      "0.666 (+/-0.041) for {'C': 4, 'gamma': 0.1, 'kernel': 'linear'}\n",
      "0.662 (+/-0.036) for {'C': 4, 'gamma': 0.1, 'kernel': 'rbf'}\n",
      "0.666 (+/-0.041) for {'C': 4, 'gamma': 0.2, 'kernel': 'linear'}\n",
      "0.660 (+/-0.037) for {'C': 4, 'gamma': 0.2, 'kernel': 'rbf'}\n",
      "0.666 (+/-0.041) for {'C': 4, 'gamma': 0.3, 'kernel': 'linear'}\n",
      "0.649 (+/-0.032) for {'C': 4, 'gamma': 0.3, 'kernel': 'rbf'}\n",
      "0.666 (+/-0.041) for {'C': 4, 'gamma': 0.4, 'kernel': 'linear'}\n",
      "0.646 (+/-0.033) for {'C': 4, 'gamma': 0.4, 'kernel': 'rbf'}\n",
      "0.666 (+/-0.041) for {'C': 4, 'gamma': 0.5, 'kernel': 'linear'}\n",
      "0.637 (+/-0.023) for {'C': 4, 'gamma': 0.5, 'kernel': 'rbf'}\n",
      "0.666 (+/-0.043) for {'C': 5, 'gamma': 0.01, 'kernel': 'linear'}\n",
      "0.672 (+/-0.060) for {'C': 5, 'gamma': 0.01, 'kernel': 'rbf'}\n",
      "0.666 (+/-0.043) for {'C': 5, 'gamma': 0.02, 'kernel': 'linear'}\n",
      "0.672 (+/-0.045) for {'C': 5, 'gamma': 0.02, 'kernel': 'rbf'}\n",
      "0.666 (+/-0.043) for {'C': 5, 'gamma': 0.03, 'kernel': 'linear'}\n",
      "0.672 (+/-0.043) for {'C': 5, 'gamma': 0.03, 'kernel': 'rbf'}\n",
      "0.666 (+/-0.043) for {'C': 5, 'gamma': 0.04, 'kernel': 'linear'}\n",
      "0.672 (+/-0.043) for {'C': 5, 'gamma': 0.04, 'kernel': 'rbf'}\n",
      "0.666 (+/-0.043) for {'C': 5, 'gamma': 0.05, 'kernel': 'linear'}\n",
      "0.674 (+/-0.046) for {'C': 5, 'gamma': 0.05, 'kernel': 'rbf'}\n",
      "0.666 (+/-0.043) for {'C': 5, 'gamma': 0.1, 'kernel': 'linear'}\n",
      "0.659 (+/-0.038) for {'C': 5, 'gamma': 0.1, 'kernel': 'rbf'}\n",
      "0.666 (+/-0.043) for {'C': 5, 'gamma': 0.2, 'kernel': 'linear'}\n",
      "0.651 (+/-0.032) for {'C': 5, 'gamma': 0.2, 'kernel': 'rbf'}\n",
      "0.666 (+/-0.043) for {'C': 5, 'gamma': 0.3, 'kernel': 'linear'}\n",
      "0.644 (+/-0.035) for {'C': 5, 'gamma': 0.3, 'kernel': 'rbf'}\n",
      "0.666 (+/-0.043) for {'C': 5, 'gamma': 0.4, 'kernel': 'linear'}\n",
      "0.641 (+/-0.031) for {'C': 5, 'gamma': 0.4, 'kernel': 'rbf'}\n",
      "0.666 (+/-0.043) for {'C': 5, 'gamma': 0.5, 'kernel': 'linear'}\n",
      "0.636 (+/-0.013) for {'C': 5, 'gamma': 0.5, 'kernel': 'rbf'}\n",
      "0.667 (+/-0.043) for {'C': 6, 'gamma': 0.01, 'kernel': 'linear'}\n",
      "0.666 (+/-0.061) for {'C': 6, 'gamma': 0.01, 'kernel': 'rbf'}\n",
      "0.667 (+/-0.043) for {'C': 6, 'gamma': 0.02, 'kernel': 'linear'}\n",
      "0.671 (+/-0.054) for {'C': 6, 'gamma': 0.02, 'kernel': 'rbf'}\n",
      "0.667 (+/-0.043) for {'C': 6, 'gamma': 0.03, 'kernel': 'linear'}\n",
      "0.671 (+/-0.048) for {'C': 6, 'gamma': 0.03, 'kernel': 'rbf'}\n",
      "0.667 (+/-0.043) for {'C': 6, 'gamma': 0.04, 'kernel': 'linear'}\n",
      "0.664 (+/-0.042) for {'C': 6, 'gamma': 0.04, 'kernel': 'rbf'}\n",
      "0.667 (+/-0.043) for {'C': 6, 'gamma': 0.05, 'kernel': 'linear'}\n",
      "0.672 (+/-0.042) for {'C': 6, 'gamma': 0.05, 'kernel': 'rbf'}\n",
      "0.667 (+/-0.043) for {'C': 6, 'gamma': 0.1, 'kernel': 'linear'}\n",
      "0.656 (+/-0.036) for {'C': 6, 'gamma': 0.1, 'kernel': 'rbf'}\n",
      "0.667 (+/-0.043) for {'C': 6, 'gamma': 0.2, 'kernel': 'linear'}\n",
      "0.654 (+/-0.038) for {'C': 6, 'gamma': 0.2, 'kernel': 'rbf'}\n",
      "0.667 (+/-0.043) for {'C': 6, 'gamma': 0.3, 'kernel': 'linear'}\n",
      "0.642 (+/-0.038) for {'C': 6, 'gamma': 0.3, 'kernel': 'rbf'}\n",
      "0.667 (+/-0.043) for {'C': 6, 'gamma': 0.4, 'kernel': 'linear'}\n",
      "0.640 (+/-0.032) for {'C': 6, 'gamma': 0.4, 'kernel': 'rbf'}\n",
      "0.667 (+/-0.043) for {'C': 6, 'gamma': 0.5, 'kernel': 'linear'}\n",
      "0.638 (+/-0.017) for {'C': 6, 'gamma': 0.5, 'kernel': 'rbf'}\n",
      "0.665 (+/-0.042) for {'C': 7, 'gamma': 0.01, 'kernel': 'linear'}\n",
      "0.667 (+/-0.068) for {'C': 7, 'gamma': 0.01, 'kernel': 'rbf'}\n",
      "0.665 (+/-0.042) for {'C': 7, 'gamma': 0.02, 'kernel': 'linear'}\n",
      "0.674 (+/-0.053) for {'C': 7, 'gamma': 0.02, 'kernel': 'rbf'}\n",
      "0.665 (+/-0.042) for {'C': 7, 'gamma': 0.03, 'kernel': 'linear'}\n",
      "0.669 (+/-0.045) for {'C': 7, 'gamma': 0.03, 'kernel': 'rbf'}\n",
      "0.665 (+/-0.042) for {'C': 7, 'gamma': 0.04, 'kernel': 'linear'}\n",
      "0.669 (+/-0.047) for {'C': 7, 'gamma': 0.04, 'kernel': 'rbf'}\n",
      "0.665 (+/-0.042) for {'C': 7, 'gamma': 0.05, 'kernel': 'linear'}\n",
      "0.674 (+/-0.045) for {'C': 7, 'gamma': 0.05, 'kernel': 'rbf'}\n",
      "0.665 (+/-0.042) for {'C': 7, 'gamma': 0.1, 'kernel': 'linear'}\n",
      "0.651 (+/-0.042) for {'C': 7, 'gamma': 0.1, 'kernel': 'rbf'}\n",
      "0.665 (+/-0.042) for {'C': 7, 'gamma': 0.2, 'kernel': 'linear'}\n",
      "0.649 (+/-0.032) for {'C': 7, 'gamma': 0.2, 'kernel': 'rbf'}\n",
      "0.665 (+/-0.042) for {'C': 7, 'gamma': 0.3, 'kernel': 'linear'}\n",
      "0.641 (+/-0.034) for {'C': 7, 'gamma': 0.3, 'kernel': 'rbf'}\n",
      "0.665 (+/-0.042) for {'C': 7, 'gamma': 0.4, 'kernel': 'linear'}\n",
      "0.641 (+/-0.022) for {'C': 7, 'gamma': 0.4, 'kernel': 'rbf'}\n",
      "0.665 (+/-0.042) for {'C': 7, 'gamma': 0.5, 'kernel': 'linear'}\n",
      "0.636 (+/-0.015) for {'C': 7, 'gamma': 0.5, 'kernel': 'rbf'}\n",
      "0.666 (+/-0.040) for {'C': 8, 'gamma': 0.01, 'kernel': 'linear'}\n",
      "0.665 (+/-0.057) for {'C': 8, 'gamma': 0.01, 'kernel': 'rbf'}\n",
      "0.666 (+/-0.040) for {'C': 8, 'gamma': 0.02, 'kernel': 'linear'}\n",
      "0.669 (+/-0.054) for {'C': 8, 'gamma': 0.02, 'kernel': 'rbf'}\n",
      "0.666 (+/-0.040) for {'C': 8, 'gamma': 0.03, 'kernel': 'linear'}\n",
      "0.669 (+/-0.042) for {'C': 8, 'gamma': 0.03, 'kernel': 'rbf'}\n",
      "0.666 (+/-0.040) for {'C': 8, 'gamma': 0.04, 'kernel': 'linear'}\n",
      "0.669 (+/-0.047) for {'C': 8, 'gamma': 0.04, 'kernel': 'rbf'}\n",
      "0.666 (+/-0.040) for {'C': 8, 'gamma': 0.05, 'kernel': 'linear'}\n",
      "0.674 (+/-0.045) for {'C': 8, 'gamma': 0.05, 'kernel': 'rbf'}\n",
      "0.666 (+/-0.040) for {'C': 8, 'gamma': 0.1, 'kernel': 'linear'}\n",
      "0.648 (+/-0.045) for {'C': 8, 'gamma': 0.1, 'kernel': 'rbf'}\n",
      "0.666 (+/-0.040) for {'C': 8, 'gamma': 0.2, 'kernel': 'linear'}\n",
      "0.642 (+/-0.037) for {'C': 8, 'gamma': 0.2, 'kernel': 'rbf'}\n",
      "0.666 (+/-0.040) for {'C': 8, 'gamma': 0.3, 'kernel': 'linear'}\n",
      "0.644 (+/-0.030) for {'C': 8, 'gamma': 0.3, 'kernel': 'rbf'}\n",
      "0.666 (+/-0.040) for {'C': 8, 'gamma': 0.4, 'kernel': 'linear'}\n",
      "0.641 (+/-0.024) for {'C': 8, 'gamma': 0.4, 'kernel': 'rbf'}\n",
      "0.666 (+/-0.040) for {'C': 8, 'gamma': 0.5, 'kernel': 'linear'}\n",
      "0.634 (+/-0.012) for {'C': 8, 'gamma': 0.5, 'kernel': 'rbf'}\n",
      "0.666 (+/-0.042) for {'C': 9, 'gamma': 0.01, 'kernel': 'linear'}\n",
      "0.666 (+/-0.057) for {'C': 9, 'gamma': 0.01, 'kernel': 'rbf'}\n",
      "0.666 (+/-0.042) for {'C': 9, 'gamma': 0.02, 'kernel': 'linear'}\n",
      "0.665 (+/-0.053) for {'C': 9, 'gamma': 0.02, 'kernel': 'rbf'}\n",
      "0.666 (+/-0.042) for {'C': 9, 'gamma': 0.03, 'kernel': 'linear'}\n",
      "0.664 (+/-0.051) for {'C': 9, 'gamma': 0.03, 'kernel': 'rbf'}\n",
      "0.666 (+/-0.042) for {'C': 9, 'gamma': 0.04, 'kernel': 'linear'}\n",
      "0.670 (+/-0.052) for {'C': 9, 'gamma': 0.04, 'kernel': 'rbf'}\n",
      "0.666 (+/-0.042) for {'C': 9, 'gamma': 0.05, 'kernel': 'linear'}\n",
      "0.669 (+/-0.044) for {'C': 9, 'gamma': 0.05, 'kernel': 'rbf'}\n",
      "0.666 (+/-0.042) for {'C': 9, 'gamma': 0.1, 'kernel': 'linear'}\n",
      "0.646 (+/-0.044) for {'C': 9, 'gamma': 0.1, 'kernel': 'rbf'}\n",
      "0.666 (+/-0.042) for {'C': 9, 'gamma': 0.2, 'kernel': 'linear'}\n",
      "0.644 (+/-0.038) for {'C': 9, 'gamma': 0.2, 'kernel': 'rbf'}\n",
      "0.666 (+/-0.042) for {'C': 9, 'gamma': 0.3, 'kernel': 'linear'}\n",
      "0.644 (+/-0.030) for {'C': 9, 'gamma': 0.3, 'kernel': 'rbf'}\n",
      "0.666 (+/-0.042) for {'C': 9, 'gamma': 0.4, 'kernel': 'linear'}\n",
      "0.638 (+/-0.023) for {'C': 9, 'gamma': 0.4, 'kernel': 'rbf'}\n",
      "0.666 (+/-0.042) for {'C': 9, 'gamma': 0.5, 'kernel': 'linear'}\n",
      "0.634 (+/-0.011) for {'C': 9, 'gamma': 0.5, 'kernel': 'rbf'}\n",
      "0.665 (+/-0.042) for {'C': 10, 'gamma': 0.01, 'kernel': 'linear'}\n",
      "0.666 (+/-0.055) for {'C': 10, 'gamma': 0.01, 'kernel': 'rbf'}\n",
      "0.665 (+/-0.042) for {'C': 10, 'gamma': 0.02, 'kernel': 'linear'}\n",
      "0.667 (+/-0.062) for {'C': 10, 'gamma': 0.02, 'kernel': 'rbf'}\n",
      "0.665 (+/-0.042) for {'C': 10, 'gamma': 0.03, 'kernel': 'linear'}\n",
      "0.667 (+/-0.052) for {'C': 10, 'gamma': 0.03, 'kernel': 'rbf'}\n",
      "0.665 (+/-0.042) for {'C': 10, 'gamma': 0.04, 'kernel': 'linear'}\n",
      "0.669 (+/-0.047) for {'C': 10, 'gamma': 0.04, 'kernel': 'rbf'}\n",
      "0.665 (+/-0.042) for {'C': 10, 'gamma': 0.05, 'kernel': 'linear'}\n",
      "0.664 (+/-0.039) for {'C': 10, 'gamma': 0.05, 'kernel': 'rbf'}\n",
      "0.665 (+/-0.042) for {'C': 10, 'gamma': 0.1, 'kernel': 'linear'}\n",
      "0.642 (+/-0.037) for {'C': 10, 'gamma': 0.1, 'kernel': 'rbf'}\n",
      "0.665 (+/-0.042) for {'C': 10, 'gamma': 0.2, 'kernel': 'linear'}\n",
      "0.643 (+/-0.039) for {'C': 10, 'gamma': 0.2, 'kernel': 'rbf'}\n",
      "0.665 (+/-0.042) for {'C': 10, 'gamma': 0.3, 'kernel': 'linear'}\n",
      "0.640 (+/-0.026) for {'C': 10, 'gamma': 0.3, 'kernel': 'rbf'}\n",
      "0.665 (+/-0.042) for {'C': 10, 'gamma': 0.4, 'kernel': 'linear'}\n",
      "0.638 (+/-0.023) for {'C': 10, 'gamma': 0.4, 'kernel': 'rbf'}\n",
      "0.665 (+/-0.042) for {'C': 10, 'gamma': 0.5, 'kernel': 'linear'}\n",
      "0.634 (+/-0.010) for {'C': 10, 'gamma': 0.5, 'kernel': 'rbf'}\n",
      "\n",
      "Detailed classification report:\n",
      "\n",
      "The model is trained on the full development set.\n",
      "The scores are computed on the full evaluation set.\n",
      "\n"
     ]
    },
    {
     "ename": "NameError",
     "evalue": "name 'X_test' is not defined",
     "output_type": "error",
     "traceback": [
      "\u001b[0;31m---------------------------------------------------------------------------\u001b[0m",
      "\u001b[0;31mNameError\u001b[0m                                 Traceback (most recent call last)",
      "\u001b[0;32m<ipython-input-16-0a940e80d768>\u001b[0m in \u001b[0;36m<module>\u001b[0;34m()\u001b[0m\n\u001b[1;32m     28\u001b[0m     \u001b[0mprint\u001b[0m\u001b[0;34m(\u001b[0m\u001b[0;34m\"The scores are computed on the full evaluation set.\"\u001b[0m\u001b[0;34m)\u001b[0m\u001b[0;34m\u001b[0m\u001b[0m\n\u001b[1;32m     29\u001b[0m     \u001b[0mprint\u001b[0m\u001b[0;34m(\u001b[0m\u001b[0;34m)\u001b[0m\u001b[0;34m\u001b[0m\u001b[0m\n\u001b[0;32m---> 30\u001b[0;31m     \u001b[0my_true\u001b[0m\u001b[0;34m,\u001b[0m \u001b[0my_pred\u001b[0m \u001b[0;34m=\u001b[0m \u001b[0my_test\u001b[0m\u001b[0;34m,\u001b[0m \u001b[0mclf\u001b[0m\u001b[0;34m.\u001b[0m\u001b[0mpredict\u001b[0m\u001b[0;34m(\u001b[0m\u001b[0mX_test\u001b[0m\u001b[0;34m)\u001b[0m\u001b[0;34m\u001b[0m\u001b[0m\n\u001b[0m\u001b[1;32m     31\u001b[0m     \u001b[0mprint\u001b[0m\u001b[0;34m(\u001b[0m\u001b[0mclassification_report\u001b[0m\u001b[0;34m(\u001b[0m\u001b[0my_true\u001b[0m\u001b[0;34m,\u001b[0m \u001b[0my_pred\u001b[0m\u001b[0;34m)\u001b[0m\u001b[0;34m)\u001b[0m\u001b[0;34m\u001b[0m\u001b[0m\n\u001b[1;32m     32\u001b[0m     \u001b[0mprint\u001b[0m\u001b[0;34m(\u001b[0m\u001b[0;34m)\u001b[0m\u001b[0;34m\u001b[0m\u001b[0m\n",
      "\u001b[0;31mNameError\u001b[0m: name 'X_test' is not defined"
     ]
    }
   ],
   "source": [
    "tuned_parameters = {'kernel':('linear', 'rbf'), 'C':[1,2,3,4,5,6,7,8,9,10], 'gamma': \n",
    "              [0.01,0.02,0.03,0.04,0.05,0.10,0.2,0.3,0.4,0.5]}\n",
    "scores = ['precision', 'recall']\n",
    "for score in scores:\n",
    "    print(\"# Tuning hyper-parameters for %s\" % score)\n",
    "    print()\n",
    "\n",
    "    clf = GridSearchCV(svm.SVC(), tuned_parameters, cv=5,\n",
    "                       scoring='%s_macro' % score)\n",
    "    clf.fit(x_train, y_train)\n",
    "\n",
    "    print(\"Best parameters set found on development set:\")\n",
    "    print()\n",
    "    print(clf.best_params_)\n",
    "    print()\n",
    "    print(\"Grid scores on development set:\")\n",
    "    print()\n",
    "    means = clf.cv_results_['mean_test_score']\n",
    "    stds = clf.cv_results_['std_test_score']\n",
    "    for mean, std, params in zip(means, stds, clf.cv_results_['params']):\n",
    "        print(\"%0.3f (+/-%0.03f) for %r\"\n",
    "              % (mean, std * 2, params))\n",
    "    print()\n",
    "\n",
    "    print(\"Detailed classification report:\")\n",
    "    print()\n",
    "    print(\"The model is trained on the full development set.\")\n",
    "    print(\"The scores are computed on the full evaluation set.\")\n",
    "    print()\n",
    "    y_true, y_pred = y_test, clf.predict(x_test)\n",
    "    print(classification_report(y_true, y_pred))\n",
    "    print()"
   ]
  },
  {
   "cell_type": "markdown",
   "metadata": {},
   "source": [
    "http://scikit-learn.org/stable/auto_examples/model_selection/plot_grid_search_digits.html"
   ]
  },
  {
   "cell_type": "code",
   "execution_count": null,
   "metadata": {
    "collapsed": true
   },
   "outputs": [],
   "source": []
  }
 ],
 "metadata": {
  "kernelspec": {
   "display_name": "Python 3",
   "language": "python",
   "name": "python3"
  },
  "language_info": {
   "codemirror_mode": {
    "name": "ipython",
    "version": 3
   },
   "file_extension": ".py",
   "mimetype": "text/x-python",
   "name": "python",
   "nbconvert_exporter": "python",
   "pygments_lexer": "ipython3",
   "version": "3.6.1"
  }
 },
 "nbformat": 4,
 "nbformat_minor": 2
}
