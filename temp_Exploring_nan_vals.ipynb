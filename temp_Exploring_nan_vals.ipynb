{
 "cells": [
  {
   "cell_type": "code",
   "execution_count": 1,
   "metadata": {
    "collapsed": true
   },
   "outputs": [],
   "source": [
    "import numpy as np\n",
    "import matplotlib.pyplot as plt\n",
    "import pandas as pd"
   ]
  },
  {
   "cell_type": "code",
   "execution_count": 2,
   "metadata": {
    "collapsed": true
   },
   "outputs": [],
   "source": [
    "array = np.load('..//..//..//Documents//Test_sets//Testing_Sample//HI1509//Scale_25000//Edits//arrays100by100//arraymin.npy')"
   ]
  },
  {
   "cell_type": "code",
   "execution_count": 4,
   "metadata": {},
   "outputs": [
    {
     "name": "stdout",
     "output_type": "stream",
     "text": [
      "2942\n"
     ]
    }
   ],
   "source": [
    "#count of nans\n",
    "nanvals = np.isnan(array).sum()\n",
    "print (nanvals)"
   ]
  },
  {
   "cell_type": "code",
   "execution_count": 6,
   "metadata": {},
   "outputs": [
    {
     "data": {
      "text/plain": [
       "29.420000000000002"
      ]
     },
     "execution_count": 6,
     "metadata": {},
     "output_type": "execute_result"
    }
   ],
   "source": [
    "nanvals/(100*100)*100"
   ]
  },
  {
   "cell_type": "code",
   "execution_count": 83,
   "metadata": {},
   "outputs": [
    {
     "name": "stdout",
     "output_type": "stream",
     "text": [
      "[[        nan  0.1956259   0.35981539  0.37678242         nan]\n",
      " [ 0.18695989  0.53468281         nan  0.75784063  0.58639042]\n",
      " [        nan  0.18301048  0.1367693   0.72299187  0.57400483]\n",
      " [ 0.45792975  0.58801572  0.9124255          nan  0.98367362]\n",
      " [ 0.04676798         nan  0.15664432         nan         nan]]\n"
     ]
    }
   ],
   "source": [
    "data = np.random.random((5, 5))\n",
    "\n",
    "#array[vertical/row][horizontal/column]\n",
    "data[1][2] = np.nan\n",
    "data[2][0] = np.nan\n",
    "data[3][3] = np.nan\n",
    "data[4][4] = np.nan\n",
    "data[0][0] = np.nan\n",
    "data[4][1] = np.nan\n",
    "data[0][4] = np.nan\n",
    "data[4][3] = np.nan\n",
    "\n",
    "print(data)"
   ]
  },
  {
   "cell_type": "code",
   "execution_count": 72,
   "metadata": {
    "collapsed": true
   },
   "outputs": [],
   "source": [
    "#nan to 0\n",
    "# data[np.isnan(data)] = 0\n",
    "# data"
   ]
  },
  {
   "cell_type": "code",
   "execution_count": 80,
   "metadata": {},
   "outputs": [
    {
     "data": {
      "text/plain": [
       "0.40376236"
      ]
     },
     "execution_count": 80,
     "metadata": {},
     "output_type": "execute_result"
    }
   ],
   "source": [
    "(0.72550494+0.3200519+0.16573024 )/3"
   ]
  },
  {
   "cell_type": "code",
   "execution_count": 45,
   "metadata": {},
   "outputs": [
    {
     "name": "stdout",
     "output_type": "stream",
     "text": [
      "0.301724732055\n",
      "0.24301167948\n",
      "0.543843131506\n"
     ]
    }
   ],
   "source": [
    "# i = 0\n",
    "# j = 0\n",
    "\n",
    "for r in range(0,5):\n",
    "    for c in range(0,5):\n",
    "        if np.isnan(data[r][c]):\n",
    "            val = ((data[r+1][c])+(data[r-1][c])+(data[r][c+1])+(data[r][c-1]))/4\n",
    "            print (val)\n",
    "\n",
    "# problem is where at the edge takes the last in the line instead"
   ]
  },
  {
   "cell_type": "code",
   "execution_count": 84,
   "metadata": {},
   "outputs": [
    {
     "name": "stdout",
     "output_type": "stream",
     "text": [
      "0.191292891902\n",
      "0.481586421009\n",
      "0.447277031826\n",
      "0.275966705211\n",
      "nan\n",
      "0.263809337649\n",
      "nan\n",
      "nan\n"
     ]
    }
   ],
   "source": [
    "for r in range(0,5):\n",
    "    for c in range(0,5):\n",
    "        if np.isnan(data[r][c]):\n",
    "            if r == 0 and c == 0:\n",
    "#                 print ((data[r][c]), ('top left'))\n",
    "                val = ((data[r+1][c])+(data[r][c+1]))/2\n",
    "                print (val)\n",
    "                data[r][c]= val\n",
    "            elif r == 4 and c == 4:\n",
    "#                 print ((data[r][c]), ('bottom right'))\n",
    "                val = ((data[r-1][c])+(data[r][c-1]))/2\n",
    "                print (val)\n",
    "                data[r][c]= val\n",
    "            elif r == 0 and c == 4:\n",
    "#                 print ((data[r][c]), ('top right'))\n",
    "                val = ((data[r+1][c])+(data[r][c-1]))/2\n",
    "                print (val)\n",
    "                data[r][c]= val\n",
    "            elif r == 4 and c == 0:\n",
    "#                 print ((data[r][c]), ('bottom left'))\n",
    "                val = ((data[r-1][c])+(data[r][c+1]))/2\n",
    "                print (val)\n",
    "                data[r][c]= val\n",
    "            elif r == 0:\n",
    "#                 print ((data[r][c]), ('top'))\n",
    "                val = ((data[r+1][c])+(data[r][c+1])+(data[r][c-1]))/3\n",
    "                print (val)\n",
    "                data[r][c]= val\n",
    "            elif c == 0: \n",
    "#                 print ((data[r][c]), ('left'))\n",
    "                val = ((data[r+1][c])+(data[r-1][c])+(data[r][c+1]))/3\n",
    "                print (val)\n",
    "                data[r][c]= val\n",
    "            elif r == 4:\n",
    "#                 print ((data[r][c]), ('bottom'))\n",
    "                val = ((data[r-1][c])+(data[r][c+1])+(data[r][c-1]))/3\n",
    "                print (val)\n",
    "                data[r][c]= val\n",
    "            elif c == 4: \n",
    "#                 print ((data[r][c]), ('right'))\n",
    "                val = ((data[r+1][c])+(data[r-1][c])+(data[r][c-1]))/3\n",
    "                print (val)\n",
    "                data[r][c]= val\n",
    "            else:\n",
    "#                 print ((data[r][c]), ('centre'))\n",
    "                val = ((data[r+1][c])+(data[r-1][c])+(data[r][c+1])+(data[r][c-1]))/4\n",
    "                print (val)\n",
    "                data[r][c]= val"
   ]
  },
  {
   "cell_type": "code",
   "execution_count": 85,
   "metadata": {},
   "outputs": [
    {
     "data": {
      "text/plain": [
       "array([[ 0.19129289,  0.1956259 ,  0.35981539,  0.37678242,  0.48158642],\n",
       "       [ 0.18695989,  0.53468281,  0.44727703,  0.75784063,  0.58639042],\n",
       "       [ 0.27596671,  0.18301048,  0.1367693 ,  0.72299187,  0.57400483],\n",
       "       [ 0.45792975,  0.58801572,  0.9124255 ,         nan,  0.98367362],\n",
       "       [ 0.04676798,  0.26380934,  0.15664432,         nan,         nan]])"
      ]
     },
     "execution_count": 85,
     "metadata": {},
     "output_type": "execute_result"
    }
   ],
   "source": [
    "data"
   ]
  },
  {
   "cell_type": "code",
   "execution_count": null,
   "metadata": {
    "collapsed": true
   },
   "outputs": [],
   "source": []
  }
 ],
 "metadata": {
  "kernelspec": {
   "display_name": "Python 3",
   "language": "python",
   "name": "python3"
  },
  "language_info": {
   "codemirror_mode": {
    "name": "ipython",
    "version": 3
   },
   "file_extension": ".py",
   "mimetype": "text/x-python",
   "name": "python",
   "nbconvert_exporter": "python",
   "pygments_lexer": "ipython3",
   "version": "3.6.1"
  }
 },
 "nbformat": 4,
 "nbformat_minor": 2
}
