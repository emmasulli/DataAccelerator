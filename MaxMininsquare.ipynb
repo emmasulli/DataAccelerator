{
 "cells": [
  {
   "cell_type": "code",
   "execution_count": 1,
   "metadata": {
    "collapsed": true
   },
   "outputs": [],
   "source": [
    "import matplotlib.pyplot as plt\n",
    "import pandas as pd\n",
    "import io\n",
    "import zipfile\n",
    "import requests\n",
    "import geopandas as gpd\n",
    "from shapely.geometry import Point\n",
    "import random"
   ]
  },
  {
   "cell_type": "code",
   "execution_count": 4,
   "metadata": {},
   "outputs": [
    {
     "data": {
      "text/html": [
       "<div>\n",
       "<style>\n",
       "    .dataframe thead tr:only-child th {\n",
       "        text-align: right;\n",
       "    }\n",
       "\n",
       "    .dataframe thead th {\n",
       "        text-align: left;\n",
       "    }\n",
       "\n",
       "    .dataframe tbody tr th {\n",
       "        vertical-align: top;\n",
       "    }\n",
       "</style>\n",
       "<table border=\"1\" class=\"dataframe\">\n",
       "  <thead>\n",
       "    <tr style=\"text-align: right;\">\n",
       "      <th></th>\n",
       "      <th>Unnamed: 0</th>\n",
       "      <th>Y</th>\n",
       "      <th>X</th>\n",
       "      <th>Depth</th>\n",
       "      <th>Selection</th>\n",
       "      <th>geometry</th>\n",
       "    </tr>\n",
       "  </thead>\n",
       "  <tbody>\n",
       "    <tr>\n",
       "      <th>0</th>\n",
       "      <td>0</td>\n",
       "      <td>50.759664</td>\n",
       "      <td>-1.187467</td>\n",
       "      <td>18.288</td>\n",
       "      <td>0.0</td>\n",
       "      <td>POINT (-1.1874668 50.7596635)</td>\n",
       "    </tr>\n",
       "    <tr>\n",
       "      <th>1</th>\n",
       "      <td>1</td>\n",
       "      <td>50.759673</td>\n",
       "      <td>-1.187468</td>\n",
       "      <td>18.211</td>\n",
       "      <td>0.0</td>\n",
       "      <td>POINT (-1.1874676 50.7596732)</td>\n",
       "    </tr>\n",
       "    <tr>\n",
       "      <th>2</th>\n",
       "      <td>2</td>\n",
       "      <td>50.759681</td>\n",
       "      <td>-1.187468</td>\n",
       "      <td>18.139</td>\n",
       "      <td>0.0</td>\n",
       "      <td>POINT (-1.1874683 50.7596813)</td>\n",
       "    </tr>\n",
       "    <tr>\n",
       "      <th>3</th>\n",
       "      <td>3</td>\n",
       "      <td>50.759687</td>\n",
       "      <td>-1.187465</td>\n",
       "      <td>18.137</td>\n",
       "      <td>0.0</td>\n",
       "      <td>POINT (-1.1874649 50.7596873)</td>\n",
       "    </tr>\n",
       "    <tr>\n",
       "      <th>4</th>\n",
       "      <td>4</td>\n",
       "      <td>50.759691</td>\n",
       "      <td>-1.187465</td>\n",
       "      <td>18.177</td>\n",
       "      <td>0.0</td>\n",
       "      <td>POINT (-1.1874652 50.7596914)</td>\n",
       "    </tr>\n",
       "  </tbody>\n",
       "</table>\n",
       "</div>"
      ],
      "text/plain": [
       "   Unnamed: 0          Y         X   Depth  Selection  \\\n",
       "0           0  50.759664 -1.187467  18.288        0.0   \n",
       "1           1  50.759673 -1.187468  18.211        0.0   \n",
       "2           2  50.759681 -1.187468  18.139        0.0   \n",
       "3           3  50.759687 -1.187465  18.137        0.0   \n",
       "4           4  50.759691 -1.187465  18.177        0.0   \n",
       "\n",
       "                        geometry  \n",
       "0  POINT (-1.1874668 50.7596635)  \n",
       "1  POINT (-1.1874676 50.7596732)  \n",
       "2  POINT (-1.1874683 50.7596813)  \n",
       "3  POINT (-1.1874649 50.7596873)  \n",
       "4  POINT (-1.1874652 50.7596914)  "
      ]
     },
     "execution_count": 4,
     "metadata": {},
     "output_type": "execute_result"
    }
   ],
   "source": [
    "#load survey and create geodataframe\n",
    "\n",
    "s = pd.read_csv('..//..//..//Documents//Test_sets//Testing_sample//HI1539B//Edits//HI1539B_C_MERGE_CORRECTED.csv')\n",
    "\n",
    "geometry = [Point(xy) for xy in zip(s.X, s.Y)]\n",
    "crs = {'init': 'epsg:4326'}\n",
    "gs = gpd.GeoDataFrame(s, crs=crs, geometry=geometry)\n",
    "\n",
    "gs.head()"
   ]
  },
  {
   "cell_type": "code",
   "execution_count": 5,
   "metadata": {
    "collapsed": true
   },
   "outputs": [],
   "source": [
    "minx = gs['X'].min()\n",
    "maxx = gs['X'].max()\n",
    "rangex = maxx-minx\n",
    "\n",
    "\n",
    "miny = gs['Y'].min()\n",
    "maxy = gs['Y'].max()\n",
    "rangey = maxy-miny\n"
   ]
  },
  {
   "cell_type": "code",
   "execution_count": 29,
   "metadata": {
    "collapsed": true
   },
   "outputs": [],
   "source": [
    "stepx = 0.007\n",
    "stepy = 0.007"
   ]
  },
  {
   "cell_type": "code",
   "execution_count": 30,
   "metadata": {},
   "outputs": [
    {
     "data": {
      "text/plain": [
       "4.0501000000000085"
      ]
     },
     "execution_count": 30,
     "metadata": {},
     "output_type": "execute_result"
    }
   ],
   "source": [
    "#to determine how many to iterate through\n",
    "rangex/stepx"
   ]
  },
  {
   "cell_type": "code",
   "execution_count": 31,
   "metadata": {},
   "outputs": [
    {
     "data": {
      "text/plain": [
       "2.2756714285715622"
      ]
     },
     "execution_count": 31,
     "metadata": {},
     "output_type": "execute_result"
    }
   ],
   "source": [
    "rangey/stepy"
   ]
  },
  {
   "cell_type": "code",
   "execution_count": 32,
   "metadata": {
    "collapsed": true
   },
   "outputs": [],
   "source": [
    "#create empty selection geodataframe\n",
    "ss = gpd.GeoDataFrame()"
   ]
  },
  {
   "cell_type": "code",
   "execution_count": 33,
   "metadata": {},
   "outputs": [
    {
     "name": "stdout",
     "output_type": "stream",
     "text": [
      "17.599 m was selected\n",
      "23.322 m was selected\n",
      "14.645 m was selected\n",
      "20.308 m was selected\n",
      "15.032 m was selected\n",
      "16.676 m was selected\n",
      "19.482 m was selected\n",
      "24.125 m was selected\n",
      "15.428 m was selected\n",
      "20.972 m was selected\n",
      "15.123 m was selected\n",
      "17.248 m was selected\n",
      "18.293 m was selected\n",
      "25.283 m was selected\n",
      "17.057 m was selected\n",
      "22.525 m was selected\n",
      "8.484 m was selected\n",
      "18.977 m was selected\n",
      "18.795 m was selected\n",
      "25.108 m was selected\n",
      "13.986 m was selected\n",
      "24.859 m was selected\n",
      "5.69 m was selected\n",
      "18.053 m was selected\n"
     ]
    }
   ],
   "source": [
    "for i in range(0,4):\n",
    "    for j in range(0,3):\n",
    "        XA= minx +(i*stepx)\n",
    "        YA = miny + (j*stepy)\n",
    "        XB = minx + ((i+1)*stepx)\n",
    "        YB = miny + ((j+1)*stepy)\n",
    "        \n",
    "        a = s[(s['X'] > XA) & (s['X'] < XB) & (s['Y'] > YA) & (s['Y'] < YB)]\n",
    "        \n",
    "        minn = a['Depth'].min()\n",
    "        maxx = a['Depth'].max()\n",
    "\n",
    "        print (minn, \"m was selected\")\n",
    "        print (maxx, \"m was selected\")\n",
    "\n",
    "        places  =  gs[gs.Depth == minn].index\n",
    "\n",
    "        if len(places)> 1:\n",
    "            pred_index = random.choice(places)\n",
    "        else:\n",
    "            pred_index = places[0]\n",
    "        \n",
    "        ss = ss.append(gs.iloc[pred_index])\n",
    "        \n",
    "        place2  =  gs[gs.Depth == maxx].index\n",
    "        \n",
    "        if len(place2)> 1:\n",
    "            pred_index2 = random.choice(place2)\n",
    "        else:\n",
    "            pred_index2 = place2[0]\n",
    "        \n",
    "        ss =ss.append(gs.iloc[pred_index2])"
   ]
  },
  {
   "cell_type": "code",
   "execution_count": 34,
   "metadata": {},
   "outputs": [
    {
     "data": {
      "image/png": "[encoded data removed]",
      "text/plain": [
       "<matplotlib.figure.Figure at 0x1118d0518>"
      ]
     },
     "metadata": {},
     "output_type": "display_data"
    }
   ],
   "source": [
    "ss.plot(column='Depth')\n",
    "plt.show()"
   ]
  },
  {
   "cell_type": "code",
   "execution_count": 35,
   "metadata": {},
   "outputs": [
    {
     "data": {
      "text/plain": [
       "24"
      ]
     },
     "execution_count": 35,
     "metadata": {},
     "output_type": "execute_result"
    }
   ],
   "source": [
    "len(ss)"
   ]
  },
  {
   "cell_type": "code",
   "execution_count": 28,
   "metadata": {
    "collapsed": true
   },
   "outputs": [],
   "source": [
    "ss.to_csv('..//..//..//Documents//Test_sets//Testing_sample//HI1539B//Edits//HI1539B_Maxmin_005.csv')\n"
   ]
  },
  {
   "cell_type": "code",
   "execution_count": null,
   "metadata": {
    "collapsed": true
   },
   "outputs": [],
   "source": []
  }
 ],
 "metadata": {
  "kernelspec": {
   "display_name": "Python 3",
   "language": "python",
   "name": "python3"
  },
  "language_info": {
   "codemirror_mode": {
    "name": "ipython",
    "version": 3
   },
   "file_extension": ".py",
   "mimetype": "text/x-python",
   "name": "python",
   "nbconvert_exporter": "python",
   "pygments_lexer": "ipython3",
   "version": "3.6.1"
  }
 },
 "nbformat": 4,
 "nbformat_minor": 2
}
