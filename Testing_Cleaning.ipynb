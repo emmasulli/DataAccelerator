{
 "cells": [
  {
   "cell_type": "code",
   "execution_count": 2,
   "metadata": {},
   "outputs": [],
   "source": [
    "#load in libraries and files\n",
    "import pandas as pd\n",
    "import numpy as np\n",
    "import matplotlib as p\n",
    "\n",
    "toclean = pd.read_csv('..//..//..//Documents//Test_sets//Testing_Sample//HI1539B//SS_HI1539B.txt')\n"
   ]
  },
  {
   "cell_type": "code",
   "execution_count": 3,
   "metadata": {},
   "outputs": [
    {
     "data": {
      "text/html": [
       "<div>\n",
       "<style>\n",
       "    .dataframe thead tr:only-child th {\n",
       "        text-align: right;\n",
       "    }\n",
       "\n",
       "    .dataframe thead th {\n",
       "        text-align: left;\n",
       "    }\n",
       "\n",
       "    .dataframe tbody tr th {\n",
       "        vertical-align: top;\n",
       "    }\n",
       "</style>\n",
       "<table border=\"1\" class=\"dataframe\">\n",
       "  <thead>\n",
       "    <tr style=\"text-align: right;\">\n",
       "      <th></th>\n",
       "      <th>Latitude</th>\n",
       "      <th>Longitude</th>\n",
       "      <th>Depth</th>\n",
       "    </tr>\n",
       "  </thead>\n",
       "  <tbody>\n",
       "    <tr>\n",
       "      <th>0</th>\n",
       "      <td>50.7746735N</td>\n",
       "      <td>001.1610475W</td>\n",
       "      <td>5.7</td>\n",
       "    </tr>\n",
       "    <tr>\n",
       "      <th>1</th>\n",
       "      <td>50.7734187N</td>\n",
       "      <td>001.1675028W</td>\n",
       "      <td>17.5</td>\n",
       "    </tr>\n",
       "    <tr>\n",
       "      <th>2</th>\n",
       "      <td>50.7741224N</td>\n",
       "      <td>001.1747684W</td>\n",
       "      <td>15.7</td>\n",
       "    </tr>\n",
       "    <tr>\n",
       "      <th>3</th>\n",
       "      <td>50.7715424N</td>\n",
       "      <td>001.1743519W</td>\n",
       "      <td>17.3</td>\n",
       "    </tr>\n",
       "  </tbody>\n",
       "</table>\n",
       "</div>"
      ],
      "text/plain": [
       "      Latitude     Longitude  Depth\n",
       "0  50.7746735N  001.1610475W    5.7\n",
       "1  50.7734187N  001.1675028W   17.5\n",
       "2  50.7741224N  001.1747684W   15.7\n",
       "3  50.7715424N  001.1743519W   17.3"
      ]
     },
     "execution_count": 3,
     "metadata": {},
     "output_type": "execute_result"
    }
   ],
   "source": [
    "toclean.head(4)"
   ]
  },
  {
   "cell_type": "code",
   "execution_count": 4,
   "metadata": {},
   "outputs": [
    {
     "data": {
      "text/html": [
       "<div>\n",
       "<style>\n",
       "    .dataframe thead tr:only-child th {\n",
       "        text-align: right;\n",
       "    }\n",
       "\n",
       "    .dataframe thead th {\n",
       "        text-align: left;\n",
       "    }\n",
       "\n",
       "    .dataframe tbody tr th {\n",
       "        vertical-align: top;\n",
       "    }\n",
       "</style>\n",
       "<table border=\"1\" class=\"dataframe\">\n",
       "  <thead>\n",
       "    <tr style=\"text-align: right;\">\n",
       "      <th></th>\n",
       "      <th>Latitude</th>\n",
       "      <th>Longitude</th>\n",
       "      <th>Depth</th>\n",
       "      <th>X</th>\n",
       "      <th>Y</th>\n",
       "    </tr>\n",
       "  </thead>\n",
       "  <tbody>\n",
       "    <tr>\n",
       "      <th>0</th>\n",
       "      <td>50.7746735N</td>\n",
       "      <td>001.1610475W</td>\n",
       "      <td>5.7</td>\n",
       "      <td>0.0</td>\n",
       "      <td>0.0</td>\n",
       "    </tr>\n",
       "    <tr>\n",
       "      <th>1</th>\n",
       "      <td>50.7734187N</td>\n",
       "      <td>001.1675028W</td>\n",
       "      <td>17.5</td>\n",
       "      <td>0.0</td>\n",
       "      <td>0.0</td>\n",
       "    </tr>\n",
       "    <tr>\n",
       "      <th>2</th>\n",
       "      <td>50.7741224N</td>\n",
       "      <td>001.1747684W</td>\n",
       "      <td>15.7</td>\n",
       "      <td>0.0</td>\n",
       "      <td>0.0</td>\n",
       "    </tr>\n",
       "    <tr>\n",
       "      <th>3</th>\n",
       "      <td>50.7715424N</td>\n",
       "      <td>001.1743519W</td>\n",
       "      <td>17.3</td>\n",
       "      <td>0.0</td>\n",
       "      <td>0.0</td>\n",
       "    </tr>\n",
       "    <tr>\n",
       "      <th>4</th>\n",
       "      <td>50.7708240N</td>\n",
       "      <td>001.1701261W</td>\n",
       "      <td>18.8</td>\n",
       "      <td>0.0</td>\n",
       "      <td>0.0</td>\n",
       "    </tr>\n",
       "  </tbody>\n",
       "</table>\n",
       "</div>"
      ],
      "text/plain": [
       "      Latitude     Longitude  Depth    X    Y\n",
       "0  50.7746735N  001.1610475W    5.7  0.0  0.0\n",
       "1  50.7734187N  001.1675028W   17.5  0.0  0.0\n",
       "2  50.7741224N  001.1747684W   15.7  0.0  0.0\n",
       "3  50.7715424N  001.1743519W   17.3  0.0  0.0\n",
       "4  50.7708240N  001.1701261W   18.8  0.0  0.0"
      ]
     },
     "execution_count": 4,
     "metadata": {},
     "output_type": "execute_result"
    }
   ],
   "source": [
    "toclean['X']= 0.0\n",
    "toclean['Y']= 0.0\n",
    "toclean.head()"
   ]
  },
  {
   "cell_type": "code",
   "execution_count": 4,
   "metadata": {
    "collapsed": true
   },
   "outputs": [],
   "source": [
    "#if end of str in column longitude 'W' insert - \n",
    "#if end of str in column latitude 'S' insert - \n",
    "#delete end of Str \n",
    "\n",
    "#for i in range(0,3815835):\n",
    "        #if toclean.loc[i,'Longitude'][-1] == 'W':\n",
    "            #toclean.loc[i,'X'] = float(toclean.loc[i,'Longitude'].strip('W'))*-1\n",
    "            \n",
    "            \n",
    "        #else: #toclean.loc[i,'Longitude'][-1] == 'E':\n",
    "            #toclean.loc[i,'X'] = float(toclean.loc[i,'Longitude'].strip('E'))\n",
    "            \n",
    "        #if toclean.loc[i,'Latitude'][-1] == 'S':\n",
    "            #toclean.loc[i,'Y'] = float(toclean.loc[i,'Latitude'].strip('S'))*-1\n",
    "             \n",
    "        #else: # toclean.loc[i,'Latitude'][-1] == 'N':\n",
    "            #toclean.loc[i,'Y'] = float(toclean.loc[i,'Latitude'].strip('N'))\n",
    "        #if i %100 == 0:\n",
    "            #print (i)\n"
   ]
  },
  {
   "cell_type": "code",
   "execution_count": 5,
   "metadata": {
    "scrolled": true
   },
   "outputs": [
    {
     "name": "stderr",
     "output_type": "stream",
     "text": [
      "/anaconda/lib/python3.6/site-packages/ipykernel_launcher.py:3: SettingWithCopyWarning: \n",
      "A value is trying to be set on a copy of a slice from a DataFrame\n",
      "\n",
      "See the caveats in the documentation: http://pandas.pydata.org/pandas-docs/stable/indexing.html#indexing-view-versus-copy\n",
      "  This is separate from the ipykernel package so we can avoid doing imports until\n",
      "/anaconda/lib/python3.6/site-packages/ipykernel_launcher.py:4: SettingWithCopyWarning: \n",
      "A value is trying to be set on a copy of a slice from a DataFrame\n",
      "\n",
      "See the caveats in the documentation: http://pandas.pydata.org/pandas-docs/stable/indexing.html#indexing-view-versus-copy\n",
      "  after removing the cwd from sys.path.\n"
     ]
    },
    {
     "data": {
      "text/html": [
       "<div>\n",
       "<style>\n",
       "    .dataframe thead tr:only-child th {\n",
       "        text-align: right;\n",
       "    }\n",
       "\n",
       "    .dataframe thead th {\n",
       "        text-align: left;\n",
       "    }\n",
       "\n",
       "    .dataframe tbody tr th {\n",
       "        vertical-align: top;\n",
       "    }\n",
       "</style>\n",
       "<table border=\"1\" class=\"dataframe\">\n",
       "  <thead>\n",
       "    <tr style=\"text-align: right;\">\n",
       "      <th></th>\n",
       "      <th>Latitude</th>\n",
       "      <th>Longitude</th>\n",
       "      <th>Depth</th>\n",
       "      <th>X</th>\n",
       "      <th>Y</th>\n",
       "    </tr>\n",
       "  </thead>\n",
       "  <tbody>\n",
       "    <tr>\n",
       "      <th>0</th>\n",
       "      <td>50.7746735N</td>\n",
       "      <td>001.1610475W</td>\n",
       "      <td>5.7</td>\n",
       "      <td>-1.161048</td>\n",
       "      <td>0.0</td>\n",
       "    </tr>\n",
       "    <tr>\n",
       "      <th>1</th>\n",
       "      <td>50.7734187N</td>\n",
       "      <td>001.1675028W</td>\n",
       "      <td>17.5</td>\n",
       "      <td>-1.167503</td>\n",
       "      <td>0.0</td>\n",
       "    </tr>\n",
       "    <tr>\n",
       "      <th>2</th>\n",
       "      <td>50.7741224N</td>\n",
       "      <td>001.1747684W</td>\n",
       "      <td>15.7</td>\n",
       "      <td>-1.174768</td>\n",
       "      <td>0.0</td>\n",
       "    </tr>\n",
       "    <tr>\n",
       "      <th>3</th>\n",
       "      <td>50.7715424N</td>\n",
       "      <td>001.1743519W</td>\n",
       "      <td>17.3</td>\n",
       "      <td>-1.174352</td>\n",
       "      <td>0.0</td>\n",
       "    </tr>\n",
       "    <tr>\n",
       "      <th>4</th>\n",
       "      <td>50.7708240N</td>\n",
       "      <td>001.1701261W</td>\n",
       "      <td>18.8</td>\n",
       "      <td>-1.170126</td>\n",
       "      <td>0.0</td>\n",
       "    </tr>\n",
       "  </tbody>\n",
       "</table>\n",
       "</div>"
      ],
      "text/plain": [
       "      Latitude     Longitude  Depth         X    Y\n",
       "0  50.7746735N  001.1610475W    5.7 -1.161048  0.0\n",
       "1  50.7734187N  001.1675028W   17.5 -1.167503  0.0\n",
       "2  50.7741224N  001.1747684W   15.7 -1.174768  0.0\n",
       "3  50.7715424N  001.1743519W   17.3 -1.174352  0.0\n",
       "4  50.7708240N  001.1701261W   18.8 -1.170126  0.0"
      ]
     },
     "execution_count": 5,
     "metadata": {},
     "output_type": "execute_result"
    }
   ],
   "source": [
    "#toclean.head()\n",
    "#toclean['X'] = toclean.loc[toclean['Longitude'].str[-1] == 'W']\n",
    "toclean.X[toclean.Longitude.str[-1] == 'W'] = pd.to_numeric(toclean.Longitude.str.strip('W'), errors='ignore')*-1\n",
    "toclean.X[toclean.Longitude.str[-1] == 'E'] = pd.to_numeric(toclean.Longitude.str.strip('E'), errors='ignore')\n",
    "                                                            \n",
    "toclean.head()\n"
   ]
  },
  {
   "cell_type": "code",
   "execution_count": 6,
   "metadata": {},
   "outputs": [
    {
     "name": "stderr",
     "output_type": "stream",
     "text": [
      "/anaconda/lib/python3.6/site-packages/ipykernel_launcher.py:1: SettingWithCopyWarning: \n",
      "A value is trying to be set on a copy of a slice from a DataFrame\n",
      "\n",
      "See the caveats in the documentation: http://pandas.pydata.org/pandas-docs/stable/indexing.html#indexing-view-versus-copy\n",
      "  \"\"\"Entry point for launching an IPython kernel.\n",
      "/anaconda/lib/python3.6/site-packages/ipykernel_launcher.py:2: SettingWithCopyWarning: \n",
      "A value is trying to be set on a copy of a slice from a DataFrame\n",
      "\n",
      "See the caveats in the documentation: http://pandas.pydata.org/pandas-docs/stable/indexing.html#indexing-view-versus-copy\n",
      "  \n"
     ]
    },
    {
     "data": {
      "text/html": [
       "<div>\n",
       "<style>\n",
       "    .dataframe thead tr:only-child th {\n",
       "        text-align: right;\n",
       "    }\n",
       "\n",
       "    .dataframe thead th {\n",
       "        text-align: left;\n",
       "    }\n",
       "\n",
       "    .dataframe tbody tr th {\n",
       "        vertical-align: top;\n",
       "    }\n",
       "</style>\n",
       "<table border=\"1\" class=\"dataframe\">\n",
       "  <thead>\n",
       "    <tr style=\"text-align: right;\">\n",
       "      <th></th>\n",
       "      <th>Latitude</th>\n",
       "      <th>Longitude</th>\n",
       "      <th>Depth</th>\n",
       "      <th>X</th>\n",
       "      <th>Y</th>\n",
       "    </tr>\n",
       "  </thead>\n",
       "  <tbody>\n",
       "    <tr>\n",
       "      <th>0</th>\n",
       "      <td>50.7746735N</td>\n",
       "      <td>001.1610475W</td>\n",
       "      <td>5.7</td>\n",
       "      <td>-1.161048</td>\n",
       "      <td>50.774673</td>\n",
       "    </tr>\n",
       "    <tr>\n",
       "      <th>1</th>\n",
       "      <td>50.7734187N</td>\n",
       "      <td>001.1675028W</td>\n",
       "      <td>17.5</td>\n",
       "      <td>-1.167503</td>\n",
       "      <td>50.773419</td>\n",
       "    </tr>\n",
       "    <tr>\n",
       "      <th>2</th>\n",
       "      <td>50.7741224N</td>\n",
       "      <td>001.1747684W</td>\n",
       "      <td>15.7</td>\n",
       "      <td>-1.174768</td>\n",
       "      <td>50.774122</td>\n",
       "    </tr>\n",
       "    <tr>\n",
       "      <th>3</th>\n",
       "      <td>50.7715424N</td>\n",
       "      <td>001.1743519W</td>\n",
       "      <td>17.3</td>\n",
       "      <td>-1.174352</td>\n",
       "      <td>50.771542</td>\n",
       "    </tr>\n",
       "    <tr>\n",
       "      <th>4</th>\n",
       "      <td>50.7708240N</td>\n",
       "      <td>001.1701261W</td>\n",
       "      <td>18.8</td>\n",
       "      <td>-1.170126</td>\n",
       "      <td>50.770824</td>\n",
       "    </tr>\n",
       "  </tbody>\n",
       "</table>\n",
       "</div>"
      ],
      "text/plain": [
       "      Latitude     Longitude  Depth         X          Y\n",
       "0  50.7746735N  001.1610475W    5.7 -1.161048  50.774673\n",
       "1  50.7734187N  001.1675028W   17.5 -1.167503  50.773419\n",
       "2  50.7741224N  001.1747684W   15.7 -1.174768  50.774122\n",
       "3  50.7715424N  001.1743519W   17.3 -1.174352  50.771542\n",
       "4  50.7708240N  001.1701261W   18.8 -1.170126  50.770824"
      ]
     },
     "execution_count": 6,
     "metadata": {},
     "output_type": "execute_result"
    }
   ],
   "source": [
    "toclean.Y[toclean.Latitude.str[-1] == 'S'] = pd.to_numeric(toclean.Latitude.str.strip('S'), errors='ignore')*-1\n",
    "toclean.Y[toclean.Latitude.str[-1] == 'N'] = pd.to_numeric(toclean.Latitude.str.strip('N'), errors='ignore')\n",
    "toclean.head()"
   ]
  },
  {
   "cell_type": "code",
   "execution_count": 7,
   "metadata": {
    "collapsed": true
   },
   "outputs": [],
   "source": [
    "tocleanb = toclean.loc[:,['X','Y','Depth']]"
   ]
  },
  {
   "cell_type": "code",
   "execution_count": 8,
   "metadata": {
    "collapsed": true
   },
   "outputs": [],
   "source": [
    "tocleanb.to_csv('..//..//..//Documents//Test_sets//Testing_Sample//HI1539B//Edits//SS_HI1539B_C.csv')"
   ]
  },
  {
   "cell_type": "code",
   "execution_count": null,
   "metadata": {
    "collapsed": true
   },
   "outputs": [],
   "source": []
  },
  {
   "cell_type": "markdown",
   "metadata": {},
   "source": [
    "for i in range(0,len(toclean)):\n",
    "        if toclean.loc[i,'Longitude'][-1] == 'W':\n",
    "            toclean.loc[i,'X'] = float(toclean.loc[i,'Longitude'].strip('W'))*-1\n",
    "            \n",
    "            \n",
    "        if toclean.loc[i,'Longitude'][-1] == 'E':\n",
    "            toclean.loc[i,'X'] = float(toclean.loc[i,'Longitude'].strip('E'))\n",
    "            \n",
    "        if toclean.loc[i,'Latitude'][-1] == 'S':\n",
    "            toclean.loc[i,'Y'] = float(toclean.loc[i,'Latitude'].strip('S'))*-1\n",
    "            \n",
    "            \n",
    "        if toclean.loc[i,'Latitude'][-1] == 'N':\n",
    "            toclean.loc[i,'Y'] = float(toclean.loc[i,'Latitude'].strip('N'))\n",
    "        if i %10000 == 0 :\n",
    "            print i\n",
    "toclean.head()"
   ]
  }
 ],
 "metadata": {
  "kernelspec": {
   "display_name": "Python 3",
   "language": "python",
   "name": "python3"
  },
  "language_info": {
   "codemirror_mode": {
    "name": "ipython",
    "version": 3
   },
   "file_extension": ".py",
   "mimetype": "text/x-python",
   "name": "python",
   "nbconvert_exporter": "python",
   "pygments_lexer": "ipython3",
   "version": "3.6.1"
  }
 },
 "nbformat": 4,
 "nbformat_minor": 2
}
