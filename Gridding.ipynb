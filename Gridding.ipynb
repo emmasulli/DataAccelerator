{
 "cells": [
  {
   "cell_type": "code",
   "execution_count": 2,
   "metadata": {
    "collapsed": true
   },
   "outputs": [],
   "source": [
    "import numpy as np\n",
    "import matplotlib.pyplot as plt\n",
    "import pandas as pd"
   ]
  },
  {
   "cell_type": "markdown",
   "metadata": {},
   "source": [
    "## This method was an intial try by at gridding by normlising the cooridnates"
   ]
  },
  {
   "cell_type": "code",
   "execution_count": 37,
   "metadata": {},
   "outputs": [
    {
     "data": {
      "text/html": [
       "<div>\n",
       "<style>\n",
       "    .dataframe thead tr:only-child th {\n",
       "        text-align: right;\n",
       "    }\n",
       "\n",
       "    .dataframe thead th {\n",
       "        text-align: left;\n",
       "    }\n",
       "\n",
       "    .dataframe tbody tr th {\n",
       "        vertical-align: top;\n",
       "    }\n",
       "</style>\n",
       "<table border=\"1\" class=\"dataframe\">\n",
       "  <thead>\n",
       "    <tr style=\"text-align: right;\">\n",
       "      <th></th>\n",
       "      <th>Unnamed: 0</th>\n",
       "      <th>Y</th>\n",
       "      <th>X</th>\n",
       "      <th>Depth</th>\n",
       "      <th>Selection</th>\n",
       "    </tr>\n",
       "  </thead>\n",
       "  <tbody>\n",
       "    <tr>\n",
       "      <th>0</th>\n",
       "      <td>0</td>\n",
       "      <td>50.759664</td>\n",
       "      <td>-1.187467</td>\n",
       "      <td>18.288</td>\n",
       "      <td>0.0</td>\n",
       "    </tr>\n",
       "    <tr>\n",
       "      <th>1</th>\n",
       "      <td>1</td>\n",
       "      <td>50.759673</td>\n",
       "      <td>-1.187468</td>\n",
       "      <td>18.211</td>\n",
       "      <td>0.0</td>\n",
       "    </tr>\n",
       "    <tr>\n",
       "      <th>2</th>\n",
       "      <td>2</td>\n",
       "      <td>50.759681</td>\n",
       "      <td>-1.187468</td>\n",
       "      <td>18.139</td>\n",
       "      <td>0.0</td>\n",
       "    </tr>\n",
       "    <tr>\n",
       "      <th>3</th>\n",
       "      <td>3</td>\n",
       "      <td>50.759687</td>\n",
       "      <td>-1.187465</td>\n",
       "      <td>18.137</td>\n",
       "      <td>0.0</td>\n",
       "    </tr>\n",
       "    <tr>\n",
       "      <th>4</th>\n",
       "      <td>4</td>\n",
       "      <td>50.759691</td>\n",
       "      <td>-1.187465</td>\n",
       "      <td>18.177</td>\n",
       "      <td>0.0</td>\n",
       "    </tr>\n",
       "  </tbody>\n",
       "</table>\n",
       "</div>"
      ],
      "text/plain": [
       "   Unnamed: 0          Y         X   Depth  Selection\n",
       "0           0  50.759664 -1.187467  18.288        0.0\n",
       "1           1  50.759673 -1.187468  18.211        0.0\n",
       "2           2  50.759681 -1.187468  18.139        0.0\n",
       "3           3  50.759687 -1.187465  18.137        0.0\n",
       "4           4  50.759691 -1.187465  18.177        0.0"
      ]
     },
     "execution_count": 37,
     "metadata": {},
     "output_type": "execute_result"
    }
   ],
   "source": [
    "survey = pd.read_csv('..//..//..//Documents//Test_sets//Testing_sample//HI1539B//Edits//HI1539B_C_MERGE_CORRECTED.csv')\n",
    "survey.head()"
   ]
  },
  {
   "cell_type": "code",
   "execution_count": null,
   "metadata": {
    "collapsed": true
   },
   "outputs": [],
   "source": [
    "#min Y 50.7593714 X -1.1880778\n",
    "#max X 50.7753011 X -1.1597271"
   ]
  },
  {
   "cell_type": "code",
   "execution_count": 38,
   "metadata": {
    "collapsed": true
   },
   "outputs": [],
   "source": [
    "X = survey['X'].tolist()\n",
    "Y = survey['Y'].tolist()\n",
    "Z = survey['Depth'].tolist()"
   ]
  },
  {
   "cell_type": "code",
   "execution_count": 44,
   "metadata": {},
   "outputs": [
    {
     "name": "stderr",
     "output_type": "stream",
     "text": [
      "/anaconda/lib/python3.6/site-packages/ipykernel_launcher.py:4: RuntimeWarning: invalid value encountered in true_divide\n",
      "  after removing the cwd from sys.path.\n"
     ]
    },
    {
     "data": {
      "image/png": "[encoded data removed]",
      "text/plain": [
       "<matplotlib.figure.Figure at 0x147c1f8d0>"
      ]
     },
     "metadata": {},
     "output_type": "display_data"
    }
   ],
   "source": [
    "zi, yi, xi = np.histogram2d(Y, X, bins=(1000,1000), weights=Z, normed=False)\n",
    "counts, _, _ = np.histogram2d(Y, X, bins=(1000,1000))\n",
    "\n",
    "zi = zi / counts\n",
    "zi = np.ma.masked_invalid(zi)\n",
    "\n",
    "#plot it\n",
    "# fig, ax = plt.subplots()\n",
    "# ax.pcolormesh(xi, yi, zi)\n",
    "# fig.colorbar()\n",
    "# ax.margins(0.05)\n",
    "\n",
    "plt.pcolor(xi, yi, zi, cmap='hsv', vmin=zi.min(), vmax=zi.max())\n",
    "plt.title('pcolor')\n",
    "\n",
    "plt.axis([xi.min(), xi.max(), yi.min(), yi.max()])\n",
    "plt.colorbar()\n",
    "\n",
    "plt.show()"
   ]
  },
  {
   "cell_type": "markdown",
   "metadata": {},
   "source": [
    "# New Method"
   ]
  },
  {
   "cell_type": "code",
   "execution_count": 18,
   "metadata": {},
   "outputs": [
    {
     "data": {
      "text/html": [
       "<div>\n",
       "<style>\n",
       "    .dataframe thead tr:only-child th {\n",
       "        text-align: right;\n",
       "    }\n",
       "\n",
       "    .dataframe thead th {\n",
       "        text-align: left;\n",
       "    }\n",
       "\n",
       "    .dataframe tbody tr th {\n",
       "        vertical-align: top;\n",
       "    }\n",
       "</style>\n",
       "<table border=\"1\" class=\"dataframe\">\n",
       "  <thead>\n",
       "    <tr style=\"text-align: right;\">\n",
       "      <th></th>\n",
       "      <th>Unnamed: 0</th>\n",
       "      <th>X</th>\n",
       "      <th>Y</th>\n",
       "      <th>Depth</th>\n",
       "      <th>Selection</th>\n",
       "    </tr>\n",
       "  </thead>\n",
       "  <tbody>\n",
       "    <tr>\n",
       "      <th>0</th>\n",
       "      <td>0</td>\n",
       "      <td>-5.162075</td>\n",
       "      <td>55.006263</td>\n",
       "      <td>0.9</td>\n",
       "      <td>0.0</td>\n",
       "    </tr>\n",
       "    <tr>\n",
       "      <th>1</th>\n",
       "      <td>1</td>\n",
       "      <td>-5.162076</td>\n",
       "      <td>55.006281</td>\n",
       "      <td>-0.6</td>\n",
       "      <td>0.0</td>\n",
       "    </tr>\n",
       "    <tr>\n",
       "      <th>2</th>\n",
       "      <td>2</td>\n",
       "      <td>-5.162045</td>\n",
       "      <td>55.006281</td>\n",
       "      <td>-0.5</td>\n",
       "      <td>0.0</td>\n",
       "    </tr>\n",
       "    <tr>\n",
       "      <th>3</th>\n",
       "      <td>3</td>\n",
       "      <td>-5.162077</td>\n",
       "      <td>55.006299</td>\n",
       "      <td>-0.5</td>\n",
       "      <td>0.0</td>\n",
       "    </tr>\n",
       "    <tr>\n",
       "      <th>4</th>\n",
       "      <td>4</td>\n",
       "      <td>-5.162046</td>\n",
       "      <td>55.006299</td>\n",
       "      <td>-0.7</td>\n",
       "      <td>0.0</td>\n",
       "    </tr>\n",
       "  </tbody>\n",
       "</table>\n",
       "</div>"
      ],
      "text/plain": [
       "   Unnamed: 0         X          Y  Depth  Selection\n",
       "0           0 -5.162075  55.006263    0.9        0.0\n",
       "1           1 -5.162076  55.006281   -0.6        0.0\n",
       "2           2 -5.162045  55.006281   -0.5        0.0\n",
       "3           3 -5.162077  55.006299   -0.5        0.0\n",
       "4           4 -5.162046  55.006299   -0.7        0.0"
      ]
     },
     "execution_count": 18,
     "metadata": {},
     "output_type": "execute_result"
    }
   ],
   "source": [
    "surveyTG = pd.read_csv('..//..//..//Documents//Test_sets//Testing_Sample//HI1509//Scale_25000//Edits//HI1509_MERGE_CORRECTED.csv')\n",
    "surveyTG.head()"
   ]
  },
  {
   "cell_type": "code",
   "execution_count": 22,
   "metadata": {
    "collapsed": true
   },
   "outputs": [],
   "source": [
    "minx = surveyTG['X'].min()\n",
    "maxx = surveyTG['X'].max()\n",
    "rangex = maxx-minx\n",
    "surveyTG['GridX'] = (survey['X'] - minx)/rangex\n",
    "\n",
    "miny = surveyTG['Y'].min()\n",
    "maxy = surveyTG['Y'].max()\n",
    "rangey = maxy-miny\n",
    "surveyTG['GridY'] = (survey['Y'] - miny)/rangey"
   ]
  },
  {
   "cell_type": "code",
   "execution_count": 21,
   "metadata": {},
   "outputs": [
    {
     "name": "stdout",
     "output_type": "stream",
     "text": [
      "-5.1620833\n",
      "-5.05855559\n",
      "55.00626292\n",
      "55.03657557\n"
     ]
    }
   ],
   "source": [
    "print (minx)\n",
    "print (maxx) \n",
    "print (miny) \n",
    "print (maxy) "
   ]
  },
  {
   "cell_type": "code",
   "execution_count": 25,
   "metadata": {},
   "outputs": [
    {
     "data": {
      "text/html": [
       "<div>\n",
       "<style>\n",
       "    .dataframe thead tr:only-child th {\n",
       "        text-align: right;\n",
       "    }\n",
       "\n",
       "    .dataframe thead th {\n",
       "        text-align: left;\n",
       "    }\n",
       "\n",
       "    .dataframe tbody tr th {\n",
       "        vertical-align: top;\n",
       "    }\n",
       "</style>\n",
       "<table border=\"1\" class=\"dataframe\">\n",
       "  <thead>\n",
       "    <tr style=\"text-align: right;\">\n",
       "      <th></th>\n",
       "      <th>Unnamed: 0</th>\n",
       "      <th>X</th>\n",
       "      <th>Y</th>\n",
       "      <th>Depth</th>\n",
       "      <th>Selection</th>\n",
       "      <th>GridX</th>\n",
       "      <th>GridY</th>\n",
       "    </tr>\n",
       "  </thead>\n",
       "  <tbody>\n",
       "    <tr>\n",
       "      <th>0</th>\n",
       "      <td>0</td>\n",
       "      <td>-5.162075</td>\n",
       "      <td>55.006263</td>\n",
       "      <td>0.9</td>\n",
       "      <td>0.0</td>\n",
       "      <td>0.0</td>\n",
       "      <td>0.000</td>\n",
       "    </tr>\n",
       "    <tr>\n",
       "      <th>1</th>\n",
       "      <td>1</td>\n",
       "      <td>-5.162076</td>\n",
       "      <td>55.006281</td>\n",
       "      <td>-0.6</td>\n",
       "      <td>0.0</td>\n",
       "      <td>0.0</td>\n",
       "      <td>0.001</td>\n",
       "    </tr>\n",
       "    <tr>\n",
       "      <th>2</th>\n",
       "      <td>2</td>\n",
       "      <td>-5.162045</td>\n",
       "      <td>55.006281</td>\n",
       "      <td>-0.5</td>\n",
       "      <td>0.0</td>\n",
       "      <td>0.0</td>\n",
       "      <td>0.001</td>\n",
       "    </tr>\n",
       "    <tr>\n",
       "      <th>3</th>\n",
       "      <td>3</td>\n",
       "      <td>-5.162077</td>\n",
       "      <td>55.006299</td>\n",
       "      <td>-0.5</td>\n",
       "      <td>0.0</td>\n",
       "      <td>0.0</td>\n",
       "      <td>0.001</td>\n",
       "    </tr>\n",
       "    <tr>\n",
       "      <th>4</th>\n",
       "      <td>4</td>\n",
       "      <td>-5.162046</td>\n",
       "      <td>55.006299</td>\n",
       "      <td>-0.7</td>\n",
       "      <td>0.0</td>\n",
       "      <td>0.0</td>\n",
       "      <td>0.001</td>\n",
       "    </tr>\n",
       "  </tbody>\n",
       "</table>\n",
       "</div>"
      ],
      "text/plain": [
       "   Unnamed: 0         X          Y  Depth  Selection  GridX  GridY\n",
       "0           0 -5.162075  55.006263    0.9        0.0    0.0  0.000\n",
       "1           1 -5.162076  55.006281   -0.6        0.0    0.0  0.001\n",
       "2           2 -5.162045  55.006281   -0.5        0.0    0.0  0.001\n",
       "3           3 -5.162077  55.006299   -0.5        0.0    0.0  0.001\n",
       "4           4 -5.162046  55.006299   -0.7        0.0    0.0  0.001"
      ]
     },
     "execution_count": 25,
     "metadata": {},
     "output_type": "execute_result"
    }
   ],
   "source": [
    "#want 1000*1000 so rounding to 3dp\n",
    "survey2 = surveyTG.round({'GridX': 3, 'GridY': 3})\n",
    "survey2.head()"
   ]
  },
  {
   "cell_type": "code",
   "execution_count": 28,
   "metadata": {},
   "outputs": [
    {
     "data": {
      "text/html": [
       "<div>\n",
       "<style>\n",
       "    .dataframe thead tr:only-child th {\n",
       "        text-align: right;\n",
       "    }\n",
       "\n",
       "    .dataframe thead th {\n",
       "        text-align: left;\n",
       "    }\n",
       "\n",
       "    .dataframe tbody tr th {\n",
       "        vertical-align: top;\n",
       "    }\n",
       "</style>\n",
       "<table border=\"1\" class=\"dataframe\">\n",
       "  <thead>\n",
       "    <tr style=\"text-align: right;\">\n",
       "      <th></th>\n",
       "      <th>GridX</th>\n",
       "      <th>GridY</th>\n",
       "      <th>MeanDepth</th>\n",
       "      <th>MaxDepth</th>\n",
       "      <th>MinDepth</th>\n",
       "      <th>Selection</th>\n",
       "    </tr>\n",
       "  </thead>\n",
       "  <tbody>\n",
       "    <tr>\n",
       "      <th>0</th>\n",
       "      <td>0.0</td>\n",
       "      <td>0.000</td>\n",
       "      <td>0.900</td>\n",
       "      <td>0.9</td>\n",
       "      <td>0.9</td>\n",
       "      <td>0.0</td>\n",
       "    </tr>\n",
       "    <tr>\n",
       "      <th>1</th>\n",
       "      <td>0.0</td>\n",
       "      <td>0.001</td>\n",
       "      <td>-0.575</td>\n",
       "      <td>-0.5</td>\n",
       "      <td>-0.7</td>\n",
       "      <td>0.0</td>\n",
       "    </tr>\n",
       "    <tr>\n",
       "      <th>2</th>\n",
       "      <td>0.0</td>\n",
       "      <td>0.002</td>\n",
       "      <td>0.525</td>\n",
       "      <td>1.3</td>\n",
       "      <td>0.0</td>\n",
       "      <td>0.0</td>\n",
       "    </tr>\n",
       "    <tr>\n",
       "      <th>3</th>\n",
       "      <td>0.0</td>\n",
       "      <td>0.003</td>\n",
       "      <td>1.200</td>\n",
       "      <td>1.5</td>\n",
       "      <td>0.9</td>\n",
       "      <td>0.0</td>\n",
       "    </tr>\n",
       "    <tr>\n",
       "      <th>4</th>\n",
       "      <td>0.0</td>\n",
       "      <td>0.004</td>\n",
       "      <td>3.300</td>\n",
       "      <td>5.4</td>\n",
       "      <td>1.3</td>\n",
       "      <td>0.0</td>\n",
       "    </tr>\n",
       "  </tbody>\n",
       "</table>\n",
       "</div>"
      ],
      "text/plain": [
       "   GridX  GridY  MeanDepth  MaxDepth  MinDepth  Selection\n",
       "0    0.0  0.000      0.900       0.9       0.9        0.0\n",
       "1    0.0  0.001     -0.575      -0.5      -0.7        0.0\n",
       "2    0.0  0.002      0.525       1.3       0.0        0.0\n",
       "3    0.0  0.003      1.200       1.5       0.9        0.0\n",
       "4    0.0  0.004      3.300       5.4       1.3        0.0"
      ]
     },
     "execution_count": 28,
     "metadata": {},
     "output_type": "execute_result"
    }
   ],
   "source": [
    "#create groupby tables grouping by the gridX and gridY to find the mean, min, max for each grid square, combine these for 'result' the grid file \n",
    "\n",
    "surveyMean = survey2.groupby(['GridX', 'GridY'])['Depth'].mean().reset_index()\n",
    "surveyMean.columns = ['GridX','GridY','MeanDepth']\n",
    "\n",
    "surveyMin = survey2.groupby(['GridX', 'GridY'])['Depth'].min().reset_index()\n",
    "surveyMin.columns =['GridX','GridY','MinDepth']\n",
    "\n",
    "surveyMax = survey2.groupby(['GridX', 'GridY'])['Depth'].max().reset_index()\n",
    "surveyMax.columns =['GridX','GridY','MaxDepth']\n",
    "\n",
    "surveySS = survey2.groupby(['GridX', 'GridY'])['Selection'].max().reset_index()\n",
    "\n",
    "result = pd.merge(surveyMean, surveyMax, how='left', on=['GridX', 'GridY'])\n",
    "result = result.merge(surveyMin, how='left', on=['GridX', 'GridY'])\n",
    "result = result.merge(surveySS, how='left', on=['GridX', 'GridY'])\n",
    "\n",
    "result.head()\n"
   ]
  },
  {
   "cell_type": "code",
   "execution_count": 30,
   "metadata": {
    "collapsed": true
   },
   "outputs": [],
   "source": [
    "result.to_csv('..//..//..//Documents//Test_sets//Testing_Sample//HI1509//Scale_25000//Edits//HI1509_MERGE_GRIDDED.csv')"
   ]
  },
  {
   "cell_type": "code",
   "execution_count": 3,
   "metadata": {
    "collapsed": true
   },
   "outputs": [],
   "source": [
    "result = pd.read_csv('..//..//..//Documents//Test_sets//Testing_Sample//HI1509//Scale_25000//Edits//HI1509_MERGE_GRIDDED.csv')\n"
   ]
  },
  {
   "cell_type": "code",
   "execution_count": null,
   "metadata": {
    "collapsed": true
   },
   "outputs": [],
   "source": []
  },
  {
   "cell_type": "code",
   "execution_count": null,
   "metadata": {
    "collapsed": true
   },
   "outputs": [],
   "source": []
  },
  {
   "cell_type": "code",
   "execution_count": null,
   "metadata": {
    "collapsed": true
   },
   "outputs": [],
   "source": []
  },
  {
   "cell_type": "code",
   "execution_count": null,
   "metadata": {
    "collapsed": true
   },
   "outputs": [],
   "source": []
  },
  {
   "cell_type": "code",
   "execution_count": null,
   "metadata": {
    "collapsed": true
   },
   "outputs": [],
   "source": [
    "\n"
   ]
  },
  {
   "cell_type": "code",
   "execution_count": null,
   "metadata": {
    "collapsed": true
   },
   "outputs": [],
   "source": []
  },
  {
   "cell_type": "code",
   "execution_count": null,
   "metadata": {
    "collapsed": true
   },
   "outputs": [],
   "source": []
  }
 ],
 "metadata": {
  "kernelspec": {
   "display_name": "Python 3",
   "language": "python",
   "name": "python3"
  },
  "language_info": {
   "codemirror_mode": {
    "name": "ipython",
    "version": 3
   },
   "file_extension": ".py",
   "mimetype": "text/x-python",
   "name": "python",
   "nbconvert_exporter": "python",
   "pygments_lexer": "ipython3",
   "version": "3.6.1"
  }
 },
 "nbformat": 4,
 "nbformat_minor": 2
}
