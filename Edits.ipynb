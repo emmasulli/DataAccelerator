{
 "cells": [
  {
   "cell_type": "markdown",
   "metadata": {},
   "source": [
    "Workbook to merge all the positive and negative datasets from each survey"
   ]
  },
  {
   "cell_type": "code",
   "execution_count": 1,
   "metadata": {
    "collapsed": true
   },
   "outputs": [],
   "source": [
    "import pandas as pd\n",
    "import io\n",
    "import zipfile\n",
    "import requests\n",
    "import geopandas as gpd\n",
    "import shapely.geometry\n",
    "from shapely.geometry import Point\n",
    "import pyproj\n",
    "import numpy as np\n",
    "import matplotlib.pyplot as plt\n",
    "import math\n",
    "import os, sys"
   ]
  },
  {
   "cell_type": "code",
   "execution_count": 2,
   "metadata": {
    "collapsed": true
   },
   "outputs": [],
   "source": [
    "path = '..//..//..//Documents//Test_sets//Testing_Sample//HOG_testsets_10m//comp//Mean'\n",
    "p = 3\n",
    "grid = 10"
   ]
  },
  {
   "cell_type": "code",
   "execution_count": 3,
   "metadata": {},
   "outputs": [
    {
     "name": "stdout",
     "output_type": "stream",
     "text": [
      "128\n",
      "192\n"
     ]
    }
   ],
   "source": [
    "HI1521 = pd.read_csv(path + 'HOGpositives_HI1521_25_'+str(grid)+'m_o4p'+str(p)+'b1_1.csv')\n",
    "HI1521n = pd.read_csv(path + 'HOGnegatives_HI1521_25_'+str(grid)+'m_o4p'+str(p)+'b1_1.csv')\n",
    "print (len(HI1521))\n",
    "print (len(HI1521n))"
   ]
  },
  {
   "cell_type": "code",
   "execution_count": null,
   "metadata": {
    "collapsed": true
   },
   "outputs": [],
   "source": []
  },
  {
   "cell_type": "code",
   "execution_count": 4,
   "metadata": {},
   "outputs": [
    {
     "name": "stdout",
     "output_type": "stream",
     "text": [
      "92\n",
      "138\n"
     ]
    }
   ],
   "source": [
    "HI1509 = pd.read_csv(path + 'HOGpositives_HI1509_25_'+str(grid)+'m_o4p'+str(p)+'b1_1.csv')\n",
    "HI1509n = pd.read_csv(path + 'HOGnegatives_HI1509_25_'+str(grid)+'m_o4p'+str(p)+'b1_1.csv')\n",
    "print (len(HI1509))\n",
    "print (len(HI1509n))"
   ]
  },
  {
   "cell_type": "code",
   "execution_count": 5,
   "metadata": {},
   "outputs": [
    {
     "name": "stdout",
     "output_type": "stream",
     "text": [
      "33\n",
      "49\n"
     ]
    }
   ],
   "source": [
    "HI1539B = pd.read_csv(path + 'HOGpositives_HI1539B_25_'+str(grid)+'m_o4p'+str(p)+'b1_1.csv')\n",
    "HI1539Bn = pd.read_csv(path + 'HOGnegatives_HI1539B_25_'+str(grid)+'m_o4p'+str(p)+'b1_1.csv')\n",
    "print (len(HI1539B))\n",
    "print (len(HI1539Bn))"
   ]
  },
  {
   "cell_type": "code",
   "execution_count": 6,
   "metadata": {},
   "outputs": [
    {
     "name": "stdout",
     "output_type": "stream",
     "text": [
      "31\n",
      "46\n"
     ]
    }
   ],
   "source": [
    "HI1522_TE5A = pd.read_csv(path + 'HOGpositives_HI1522_TE5A_25_'+str(grid)+'m_o4p'+str(p)+'b1_1.csv')\n",
    "HI1522_TE5An = pd.read_csv(path + 'HOGnegatives_HI1522_TE5A_25_'+str(grid)+'m_o4p'+str(p)+'b1_1.csv')\n",
    "print (len(HI1522_TE5A))\n",
    "print (len(HI1522_TE5An))"
   ]
  },
  {
   "cell_type": "code",
   "execution_count": 7,
   "metadata": {},
   "outputs": [
    {
     "name": "stdout",
     "output_type": "stream",
     "text": [
      "165\n",
      "247\n"
     ]
    }
   ],
   "source": [
    "HI14701 = pd.read_csv(path + 'HOGpositives_HI1470_25_'+str(grid)+'m_o4p'+str(p)+'b1_1.csv')\n",
    "HI14701n = pd.read_csv(path + 'HOGnegatives_HI1470_25_'+str(grid)+'m_o4p'+str(p)+'b1_1.csv')\n",
    "print (len(HI14701))\n",
    "print (len(HI14701n))"
   ]
  },
  {
   "cell_type": "code",
   "execution_count": 8,
   "metadata": {},
   "outputs": [
    {
     "name": "stdout",
     "output_type": "stream",
     "text": [
      "167\n",
      "250\n"
     ]
    }
   ],
   "source": [
    "HI14702 = pd.read_csv(path + 'HOGpositives_HI1470_25_'+str(grid)+'m_o4p'+str(p)+'b1_2.csv')\n",
    "HI14702n = pd.read_csv(path + 'HOGnegatives_HI1470_25_'+str(grid)+'m_o4p'+str(p)+'b1_2.csv')\n",
    "print (len(HI14702))\n",
    "print (len(HI14702n))"
   ]
  },
  {
   "cell_type": "code",
   "execution_count": 9,
   "metadata": {},
   "outputs": [
    {
     "name": "stdout",
     "output_type": "stream",
     "text": [
      "60\n",
      "90\n"
     ]
    }
   ],
   "source": [
    "HI14703 = pd.read_csv(path + 'HOGpositives_HI1470_25_'+str(grid)+'m_o4p'+str(p)+'b1_3.csv')\n",
    "HI14703n = pd.read_csv(path + 'HOGnegatives_HI1470_25_'+str(grid)+'m_o4p'+str(p)+'b1_3.csv')\n",
    "print (len(HI14703))\n",
    "print (len(HI14703n))"
   ]
  },
  {
   "cell_type": "code",
   "execution_count": 10,
   "metadata": {},
   "outputs": [
    {
     "name": "stdout",
     "output_type": "stream",
     "text": [
      "117\n",
      "175\n"
     ]
    }
   ],
   "source": [
    "HI1522_TE101 = pd.read_csv(path + 'HOGpositives_HI1522_TE10_25_'+str(grid)+'m_o4p'+str(p)+'b1_1.csv')\n",
    "HI1522_TE101n = pd.read_csv(path + 'HOGnegatives_HI1522_TE10_25_'+str(grid)+'m_o4p'+str(p)+'b1_1.csv')\n",
    "print (len(HI1522_TE101))\n",
    "print (len(HI1522_TE101n))"
   ]
  },
  {
   "cell_type": "code",
   "execution_count": 11,
   "metadata": {},
   "outputs": [
    {
     "name": "stdout",
     "output_type": "stream",
     "text": [
      "176\n",
      "264\n"
     ]
    }
   ],
   "source": [
    "HI1522_TE102 = pd.read_csv(path + 'HOGpositives_HI1522_TE10_25_'+str(grid)+'m_o4p'+str(p)+'b1_2.csv')\n",
    "HI1522_TE102n = pd.read_csv(path + 'HOGnegatives_HI1522_TE10_25_'+str(grid)+'m_o4p'+str(p)+'b1_2.csv')\n",
    "print (len(HI1522_TE102))\n",
    "print (len(HI1522_TE102n))"
   ]
  },
  {
   "cell_type": "code",
   "execution_count": 12,
   "metadata": {},
   "outputs": [
    {
     "name": "stdout",
     "output_type": "stream",
     "text": [
      "116\n",
      "174\n"
     ]
    }
   ],
   "source": [
    "HI1522_TE103 = pd.read_csv(path + 'HOGpositives_HI1522_TE10_25_'+str(grid)+'m_o4p'+str(p)+'b1_3.csv')\n",
    "HI1522_TE103n = pd.read_csv(path + 'HOGnegatives_HI1522_TE10_25_'+str(grid)+'m_o4p'+str(p)+'b1_3.csv')\n",
    "print (len(HI1522_TE103))\n",
    "print (len(HI1522_TE103n))"
   ]
  },
  {
   "cell_type": "code",
   "execution_count": 13,
   "metadata": {},
   "outputs": [
    {
     "data": {
      "text/plain": [
       "2710"
      ]
     },
     "execution_count": 13,
     "metadata": {},
     "output_type": "execute_result"
    }
   ],
   "source": [
    "len(HI1521) + len(HI1521n) +len(HI1509) +len(HI1509n) + len(HI1539B)+ len(HI1539Bn) +len(HI1522_TE5A)+len(HI1522_TE5An) + len(HI14701) + len(HI14701n)+ len(HI14702) + len(HI14702n)+len(HI14703) + len(HI14703n)+ len(HI1522_TE101)+ len(HI1522_TE101n)+ len(HI1522_TE102)+ len(HI1522_TE102n)+len(HI1522_TE103)+len(HI1522_TE103n)\n",
    "\n"
   ]
  },
  {
   "cell_type": "code",
   "execution_count": 14,
   "metadata": {
    "collapsed": true
   },
   "outputs": [],
   "source": [
    "result = HI1521.append([HI1521n, HI1509, HI1509n, HI1539B, HI1539Bn, HI1522_TE5A, HI1522_TE5An,HI14701, HI14701n, HI14702, HI14702n, HI14703, HI14703n,HI1522_TE101,HI1522_TE101n,HI1522_TE102,HI1522_TE102n,HI1522_TE103,HI1522_TE103n])\n",
    "\n"
   ]
  },
  {
   "cell_type": "code",
   "execution_count": 15,
   "metadata": {},
   "outputs": [
    {
     "data": {
      "text/plain": [
       "2710"
      ]
     },
     "execution_count": 15,
     "metadata": {},
     "output_type": "execute_result"
    }
   ],
   "source": [
    "len(result)"
   ]
  },
  {
   "cell_type": "code",
   "execution_count": 16,
   "metadata": {
    "collapsed": true
   },
   "outputs": [],
   "source": [
    "result2 = result.drop(['Unnamed: 0'], axis=1)"
   ]
  },
  {
   "cell_type": "code",
   "execution_count": 17,
   "metadata": {},
   "outputs": [
    {
     "data": {
      "text/html": [
       "<div>\n",
       "<style>\n",
       "    .dataframe thead tr:only-child th {\n",
       "        text-align: right;\n",
       "    }\n",
       "\n",
       "    .dataframe thead th {\n",
       "        text-align: left;\n",
       "    }\n",
       "\n",
       "    .dataframe tbody tr th {\n",
       "        vertical-align: top;\n",
       "    }\n",
       "</style>\n",
       "<table border=\"1\" class=\"dataframe\">\n",
       "  <thead>\n",
       "    <tr style=\"text-align: right;\">\n",
       "      <th></th>\n",
       "      <th>A</th>\n",
       "      <th>B1</th>\n",
       "      <th>B2</th>\n",
       "      <th>B3</th>\n",
       "      <th>B4</th>\n",
       "      <th>B5</th>\n",
       "      <th>B6</th>\n",
       "      <th>B7</th>\n",
       "      <th>B8</th>\n",
       "      <th>C1</th>\n",
       "      <th>...</th>\n",
       "      <th>C12</th>\n",
       "      <th>C13</th>\n",
       "      <th>C14</th>\n",
       "      <th>C15</th>\n",
       "      <th>C16</th>\n",
       "      <th>mindep</th>\n",
       "      <th>cellav</th>\n",
       "      <th>allav</th>\n",
       "      <th>drange</th>\n",
       "      <th>Selection</th>\n",
       "    </tr>\n",
       "  </thead>\n",
       "  <tbody>\n",
       "    <tr>\n",
       "      <th>0</th>\n",
       "      <td>0.699105</td>\n",
       "      <td>0.523597</td>\n",
       "      <td>0.845961</td>\n",
       "      <td>0.707071</td>\n",
       "      <td>7.070568e-01</td>\n",
       "      <td>0.935508</td>\n",
       "      <td>0.642501</td>\n",
       "      <td>0.942804</td>\n",
       "      <td>0.777002</td>\n",
       "      <td>0.757460</td>\n",
       "      <td>...</td>\n",
       "      <td>0.734142</td>\n",
       "      <td>0.162051</td>\n",
       "      <td>0.526465</td>\n",
       "      <td>7.070355e-01</td>\n",
       "      <td>0.728974</td>\n",
       "      <td>11.423400</td>\n",
       "      <td>0.301484</td>\n",
       "      <td>-3.038687</td>\n",
       "      <td>0.649180</td>\n",
       "      <td>1</td>\n",
       "    </tr>\n",
       "    <tr>\n",
       "      <th>1</th>\n",
       "      <td>0.999974</td>\n",
       "      <td>0.142582</td>\n",
       "      <td>0.707075</td>\n",
       "      <td>0.945545</td>\n",
       "      <td>9.999347e-01</td>\n",
       "      <td>0.707076</td>\n",
       "      <td>0.090803</td>\n",
       "      <td>0.793582</td>\n",
       "      <td>0.169831</td>\n",
       "      <td>0.771725</td>\n",
       "      <td>...</td>\n",
       "      <td>0.828063</td>\n",
       "      <td>0.471201</td>\n",
       "      <td>0.447688</td>\n",
       "      <td>7.367055e-01</td>\n",
       "      <td>0.568848</td>\n",
       "      <td>7.831703</td>\n",
       "      <td>0.886610</td>\n",
       "      <td>0.553010</td>\n",
       "      <td>2.147247</td>\n",
       "      <td>1</td>\n",
       "    </tr>\n",
       "    <tr>\n",
       "      <th>2</th>\n",
       "      <td>0.999963</td>\n",
       "      <td>0.550400</td>\n",
       "      <td>0.597798</td>\n",
       "      <td>0.294841</td>\n",
       "      <td>4.276751e-01</td>\n",
       "      <td>0.999954</td>\n",
       "      <td>0.535919</td>\n",
       "      <td>0.581665</td>\n",
       "      <td>0.110038</td>\n",
       "      <td>0.796352</td>\n",
       "      <td>...</td>\n",
       "      <td>0.793153</td>\n",
       "      <td>0.155752</td>\n",
       "      <td>0.447560</td>\n",
       "      <td>8.254675e-01</td>\n",
       "      <td>0.501214</td>\n",
       "      <td>8.991404</td>\n",
       "      <td>0.700686</td>\n",
       "      <td>-0.606691</td>\n",
       "      <td>1.367596</td>\n",
       "      <td>1</td>\n",
       "    </tr>\n",
       "    <tr>\n",
       "      <th>3</th>\n",
       "      <td>0.999910</td>\n",
       "      <td>0.707036</td>\n",
       "      <td>0.999910</td>\n",
       "      <td>0.707046</td>\n",
       "      <td>5.316222e-01</td>\n",
       "      <td>0.707041</td>\n",
       "      <td>0.937026</td>\n",
       "      <td>0.707034</td>\n",
       "      <td>0.325267</td>\n",
       "      <td>0.789565</td>\n",
       "      <td>...</td>\n",
       "      <td>0.716628</td>\n",
       "      <td>0.757299</td>\n",
       "      <td>0.315604</td>\n",
       "      <td>6.122590e-17</td>\n",
       "      <td>0.315621</td>\n",
       "      <td>8.273400</td>\n",
       "      <td>0.326139</td>\n",
       "      <td>0.111313</td>\n",
       "      <td>0.684095</td>\n",
       "      <td>1</td>\n",
       "    </tr>\n",
       "    <tr>\n",
       "      <th>4</th>\n",
       "      <td>0.512527</td>\n",
       "      <td>0.854831</td>\n",
       "      <td>0.999893</td>\n",
       "      <td>0.707051</td>\n",
       "      <td>6.122679e-17</td>\n",
       "      <td>0.707054</td>\n",
       "      <td>0.781595</td>\n",
       "      <td>0.350121</td>\n",
       "      <td>0.524829</td>\n",
       "      <td>0.999885</td>\n",
       "      <td>...</td>\n",
       "      <td>0.444587</td>\n",
       "      <td>0.189328</td>\n",
       "      <td>0.315615</td>\n",
       "      <td>7.070513e-01</td>\n",
       "      <td>0.315622</td>\n",
       "      <td>7.240050</td>\n",
       "      <td>0.329985</td>\n",
       "      <td>1.144663</td>\n",
       "      <td>0.757059</td>\n",
       "      <td>1</td>\n",
       "    </tr>\n",
       "  </tbody>\n",
       "</table>\n",
       "<p>5 rows × 30 columns</p>\n",
       "</div>"
      ],
      "text/plain": [
       "          A        B1        B2        B3            B4        B5        B6  \\\n",
       "0  0.699105  0.523597  0.845961  0.707071  7.070568e-01  0.935508  0.642501   \n",
       "1  0.999974  0.142582  0.707075  0.945545  9.999347e-01  0.707076  0.090803   \n",
       "2  0.999963  0.550400  0.597798  0.294841  4.276751e-01  0.999954  0.535919   \n",
       "3  0.999910  0.707036  0.999910  0.707046  5.316222e-01  0.707041  0.937026   \n",
       "4  0.512527  0.854831  0.999893  0.707051  6.122679e-17  0.707054  0.781595   \n",
       "\n",
       "         B7        B8        C1    ...           C12       C13       C14  \\\n",
       "0  0.942804  0.777002  0.757460    ...      0.734142  0.162051  0.526465   \n",
       "1  0.793582  0.169831  0.771725    ...      0.828063  0.471201  0.447688   \n",
       "2  0.581665  0.110038  0.796352    ...      0.793153  0.155752  0.447560   \n",
       "3  0.707034  0.325267  0.789565    ...      0.716628  0.757299  0.315604   \n",
       "4  0.350121  0.524829  0.999885    ...      0.444587  0.189328  0.315615   \n",
       "\n",
       "            C15       C16     mindep    cellav     allav    drange  Selection  \n",
       "0  7.070355e-01  0.728974  11.423400  0.301484 -3.038687  0.649180          1  \n",
       "1  7.367055e-01  0.568848   7.831703  0.886610  0.553010  2.147247          1  \n",
       "2  8.254675e-01  0.501214   8.991404  0.700686 -0.606691  1.367596          1  \n",
       "3  6.122590e-17  0.315621   8.273400  0.326139  0.111313  0.684095          1  \n",
       "4  7.070513e-01  0.315622   7.240050  0.329985  1.144663  0.757059          1  \n",
       "\n",
       "[5 rows x 30 columns]"
      ]
     },
     "execution_count": 17,
     "metadata": {},
     "output_type": "execute_result"
    }
   ],
   "source": [
    "result2.head()"
   ]
  },
  {
   "cell_type": "code",
   "execution_count": 18,
   "metadata": {},
   "outputs": [],
   "source": [
    "result2.to_csv(path+\"final//Mean\"+str(grid)+\"m_o4p\"+str(p)+\"b1.csv\")"
   ]
  },
  {
   "cell_type": "code",
   "execution_count": 19,
   "metadata": {},
   "outputs": [
    {
     "name": "stderr",
     "output_type": "stream",
     "text": [
      "/anaconda/lib/python3.6/site-packages/sklearn/cross_validation.py:44: DeprecationWarning: This module was deprecated in version 0.18 in favor of the model_selection module into which all the refactored classes and functions are moved. Also note that the interface of the new CV iterators are different from that of this module. This module will be removed in 0.20.\n",
      "  \"This module will be removed in 0.20.\", DeprecationWarning)\n"
     ]
    },
    {
     "data": {
      "text/html": [
       "<div>\n",
       "<style>\n",
       "    .dataframe thead tr:only-child th {\n",
       "        text-align: right;\n",
       "    }\n",
       "\n",
       "    .dataframe thead th {\n",
       "        text-align: left;\n",
       "    }\n",
       "\n",
       "    .dataframe tbody tr th {\n",
       "        vertical-align: top;\n",
       "    }\n",
       "</style>\n",
       "<table border=\"1\" class=\"dataframe\">\n",
       "  <thead>\n",
       "    <tr style=\"text-align: right;\">\n",
       "      <th></th>\n",
       "      <th>abs_corr</th>\n",
       "      <th>correlation</th>\n",
       "    </tr>\n",
       "    <tr>\n",
       "      <th>parameter</th>\n",
       "      <th></th>\n",
       "      <th></th>\n",
       "    </tr>\n",
       "  </thead>\n",
       "  <tbody>\n",
       "    <tr>\n",
       "      <th>Selection</th>\n",
       "      <td>1.000000</td>\n",
       "      <td>1.000000</td>\n",
       "    </tr>\n",
       "    <tr>\n",
       "      <th>B3</th>\n",
       "      <td>0.329419</td>\n",
       "      <td>0.329419</td>\n",
       "    </tr>\n",
       "    <tr>\n",
       "      <th>C6</th>\n",
       "      <td>0.326913</td>\n",
       "      <td>0.326913</td>\n",
       "    </tr>\n",
       "    <tr>\n",
       "      <th>B4</th>\n",
       "      <td>0.319638</td>\n",
       "      <td>0.319638</td>\n",
       "    </tr>\n",
       "    <tr>\n",
       "      <th>B5</th>\n",
       "      <td>0.310304</td>\n",
       "      <td>0.310304</td>\n",
       "    </tr>\n",
       "    <tr>\n",
       "      <th>C8</th>\n",
       "      <td>0.308345</td>\n",
       "      <td>0.308345</td>\n",
       "    </tr>\n",
       "    <tr>\n",
       "      <th>A</th>\n",
       "      <td>0.308214</td>\n",
       "      <td>0.308214</td>\n",
       "    </tr>\n",
       "    <tr>\n",
       "      <th>C4</th>\n",
       "      <td>0.305108</td>\n",
       "      <td>0.305108</td>\n",
       "    </tr>\n",
       "    <tr>\n",
       "      <th>C5</th>\n",
       "      <td>0.301297</td>\n",
       "      <td>0.301297</td>\n",
       "    </tr>\n",
       "    <tr>\n",
       "      <th>C12</th>\n",
       "      <td>0.296264</td>\n",
       "      <td>0.296264</td>\n",
       "    </tr>\n",
       "    <tr>\n",
       "      <th>B7</th>\n",
       "      <td>0.287969</td>\n",
       "      <td>0.287969</td>\n",
       "    </tr>\n",
       "    <tr>\n",
       "      <th>C16</th>\n",
       "      <td>0.283332</td>\n",
       "      <td>0.283332</td>\n",
       "    </tr>\n",
       "    <tr>\n",
       "      <th>C2</th>\n",
       "      <td>0.281411</td>\n",
       "      <td>0.281411</td>\n",
       "    </tr>\n",
       "    <tr>\n",
       "      <th>C14</th>\n",
       "      <td>0.280748</td>\n",
       "      <td>0.280748</td>\n",
       "    </tr>\n",
       "    <tr>\n",
       "      <th>B8</th>\n",
       "      <td>0.280045</td>\n",
       "      <td>0.280045</td>\n",
       "    </tr>\n",
       "    <tr>\n",
       "      <th>C10</th>\n",
       "      <td>0.279809</td>\n",
       "      <td>0.279809</td>\n",
       "    </tr>\n",
       "    <tr>\n",
       "      <th>drange</th>\n",
       "      <td>0.276885</td>\n",
       "      <td>0.276885</td>\n",
       "    </tr>\n",
       "    <tr>\n",
       "      <th>B1</th>\n",
       "      <td>0.275953</td>\n",
       "      <td>0.275953</td>\n",
       "    </tr>\n",
       "    <tr>\n",
       "      <th>C7</th>\n",
       "      <td>0.275491</td>\n",
       "      <td>0.275491</td>\n",
       "    </tr>\n",
       "    <tr>\n",
       "      <th>C9</th>\n",
       "      <td>0.274317</td>\n",
       "      <td>0.274317</td>\n",
       "    </tr>\n",
       "    <tr>\n",
       "      <th>B2</th>\n",
       "      <td>0.272453</td>\n",
       "      <td>0.272453</td>\n",
       "    </tr>\n",
       "    <tr>\n",
       "      <th>cellav</th>\n",
       "      <td>0.265888</td>\n",
       "      <td>0.265888</td>\n",
       "    </tr>\n",
       "    <tr>\n",
       "      <th>B6</th>\n",
       "      <td>0.263086</td>\n",
       "      <td>0.263086</td>\n",
       "    </tr>\n",
       "    <tr>\n",
       "      <th>C13</th>\n",
       "      <td>0.258650</td>\n",
       "      <td>0.258650</td>\n",
       "    </tr>\n",
       "    <tr>\n",
       "      <th>C1</th>\n",
       "      <td>0.252253</td>\n",
       "      <td>0.252253</td>\n",
       "    </tr>\n",
       "    <tr>\n",
       "      <th>C3</th>\n",
       "      <td>0.234301</td>\n",
       "      <td>0.234301</td>\n",
       "    </tr>\n",
       "    <tr>\n",
       "      <th>C15</th>\n",
       "      <td>0.222255</td>\n",
       "      <td>0.222255</td>\n",
       "    </tr>\n",
       "    <tr>\n",
       "      <th>allav</th>\n",
       "      <td>0.218163</td>\n",
       "      <td>0.218163</td>\n",
       "    </tr>\n",
       "    <tr>\n",
       "      <th>C11</th>\n",
       "      <td>0.208687</td>\n",
       "      <td>0.208687</td>\n",
       "    </tr>\n",
       "    <tr>\n",
       "      <th>mindep</th>\n",
       "      <td>0.070929</td>\n",
       "      <td>0.070929</td>\n",
       "    </tr>\n",
       "  </tbody>\n",
       "</table>\n",
       "</div>"
      ],
      "text/plain": [
       "           abs_corr  correlation\n",
       "parameter                       \n",
       "Selection  1.000000     1.000000\n",
       "B3         0.329419     0.329419\n",
       "C6         0.326913     0.326913\n",
       "B4         0.319638     0.319638\n",
       "B5         0.310304     0.310304\n",
       "C8         0.308345     0.308345\n",
       "A          0.308214     0.308214\n",
       "C4         0.305108     0.305108\n",
       "C5         0.301297     0.301297\n",
       "C12        0.296264     0.296264\n",
       "B7         0.287969     0.287969\n",
       "C16        0.283332     0.283332\n",
       "C2         0.281411     0.281411\n",
       "C14        0.280748     0.280748\n",
       "B8         0.280045     0.280045\n",
       "C10        0.279809     0.279809\n",
       "drange     0.276885     0.276885\n",
       "B1         0.275953     0.275953\n",
       "C7         0.275491     0.275491\n",
       "C9         0.274317     0.274317\n",
       "B2         0.272453     0.272453\n",
       "cellav     0.265888     0.265888\n",
       "B6         0.263086     0.263086\n",
       "C13        0.258650     0.258650\n",
       "C1         0.252253     0.252253\n",
       "C3         0.234301     0.234301\n",
       "C15        0.222255     0.222255\n",
       "allav      0.218163     0.218163\n",
       "C11        0.208687     0.208687\n",
       "mindep     0.070929     0.070929"
      ]
     },
     "execution_count": 19,
     "metadata": {},
     "output_type": "execute_result"
    }
   ],
   "source": [
    "#from https://www.kaggle.com/creepykoala/study-of-tree-and-forest-algorithms/notebook\n",
    "\n",
    "import numpy as np\n",
    "from numpy.random import random_integers\n",
    "import pandas as pd\n",
    "import matplotlib.pyplot as plt\n",
    "import sklearn\n",
    "from sklearn.cross_validation import train_test_split\n",
    "from sklearn.tree import DecisionTreeClassifier\n",
    "from sklearn.ensemble import RandomForestClassifier, GradientBoostingClassifier\n",
    "from scipy.stats import pointbiserialr, spearmanr\n",
    "columns = result2.columns.values\n",
    "\n",
    "param=[]\n",
    "correlation=[]\n",
    "abs_corr=[]\n",
    "\n",
    "for c in columns:\n",
    "    #Check if binary or continuous\n",
    "    if len(result2[c].unique())<=2:\n",
    "        corr = spearmanr(result2['Selection'],result2[c])[0]\n",
    "    else:\n",
    "        corr = pointbiserialr(result2['Selection'],result2[c])[0]\n",
    "    param.append(c)\n",
    "    correlation.append(corr)\n",
    "    abs_corr.append(abs(corr))\n",
    "\n",
    "#Create dataframe for visualization\n",
    "param_df=pd.DataFrame({'correlation':correlation,'parameter':param, 'abs_corr':abs_corr})\n",
    "\n",
    "#Sort by absolute correlation\n",
    "param_df=param_df.sort_values(by=['abs_corr'], ascending=False)\n",
    "\n",
    "#Set parameter name as index\n",
    "param_df=param_df.set_index('parameter')\n",
    "\n",
    "param_df"
   ]
  },
  {
   "cell_type": "code",
   "execution_count": 20,
   "metadata": {
    "collapsed": true
   },
   "outputs": [],
   "source": [
    "#result2 = pd.read_csv(path + 'final//Mean10m_o4p5b1.csv')"
   ]
  },
  {
   "cell_type": "code",
   "execution_count": 21,
   "metadata": {},
   "outputs": [
    {
     "data": {
      "text/html": [
       "<div>\n",
       "<style>\n",
       "    .dataframe thead tr:only-child th {\n",
       "        text-align: right;\n",
       "    }\n",
       "\n",
       "    .dataframe thead th {\n",
       "        text-align: left;\n",
       "    }\n",
       "\n",
       "    .dataframe tbody tr th {\n",
       "        vertical-align: top;\n",
       "    }\n",
       "</style>\n",
       "<table border=\"1\" class=\"dataframe\">\n",
       "  <thead>\n",
       "    <tr style=\"text-align: right;\">\n",
       "      <th></th>\n",
       "      <th>A</th>\n",
       "      <th>B1</th>\n",
       "      <th>B2</th>\n",
       "      <th>B3</th>\n",
       "      <th>B4</th>\n",
       "      <th>B5</th>\n",
       "      <th>B6</th>\n",
       "      <th>B7</th>\n",
       "      <th>B8</th>\n",
       "      <th>C1</th>\n",
       "      <th>...</th>\n",
       "      <th>C12</th>\n",
       "      <th>C13</th>\n",
       "      <th>C14</th>\n",
       "      <th>C15</th>\n",
       "      <th>C16</th>\n",
       "      <th>mindep</th>\n",
       "      <th>cellav</th>\n",
       "      <th>allav</th>\n",
       "      <th>drange</th>\n",
       "      <th>Selection</th>\n",
       "    </tr>\n",
       "  </thead>\n",
       "  <tbody>\n",
       "    <tr>\n",
       "      <th>0</th>\n",
       "      <td>0.699105</td>\n",
       "      <td>0.523597</td>\n",
       "      <td>0.845961</td>\n",
       "      <td>0.707071</td>\n",
       "      <td>7.070568e-01</td>\n",
       "      <td>0.935508</td>\n",
       "      <td>0.642501</td>\n",
       "      <td>0.942804</td>\n",
       "      <td>0.777002</td>\n",
       "      <td>0.757460</td>\n",
       "      <td>...</td>\n",
       "      <td>0.734142</td>\n",
       "      <td>0.162051</td>\n",
       "      <td>0.526465</td>\n",
       "      <td>7.070355e-01</td>\n",
       "      <td>0.728974</td>\n",
       "      <td>11.423400</td>\n",
       "      <td>0.301484</td>\n",
       "      <td>-3.038687</td>\n",
       "      <td>0.649180</td>\n",
       "      <td>1</td>\n",
       "    </tr>\n",
       "    <tr>\n",
       "      <th>1</th>\n",
       "      <td>0.999974</td>\n",
       "      <td>0.142582</td>\n",
       "      <td>0.707075</td>\n",
       "      <td>0.945545</td>\n",
       "      <td>9.999347e-01</td>\n",
       "      <td>0.707076</td>\n",
       "      <td>0.090803</td>\n",
       "      <td>0.793582</td>\n",
       "      <td>0.169831</td>\n",
       "      <td>0.771725</td>\n",
       "      <td>...</td>\n",
       "      <td>0.828063</td>\n",
       "      <td>0.471201</td>\n",
       "      <td>0.447688</td>\n",
       "      <td>7.367055e-01</td>\n",
       "      <td>0.568848</td>\n",
       "      <td>7.831703</td>\n",
       "      <td>0.886610</td>\n",
       "      <td>0.553010</td>\n",
       "      <td>2.147247</td>\n",
       "      <td>1</td>\n",
       "    </tr>\n",
       "    <tr>\n",
       "      <th>2</th>\n",
       "      <td>0.999963</td>\n",
       "      <td>0.550400</td>\n",
       "      <td>0.597798</td>\n",
       "      <td>0.294841</td>\n",
       "      <td>4.276751e-01</td>\n",
       "      <td>0.999954</td>\n",
       "      <td>0.535919</td>\n",
       "      <td>0.581665</td>\n",
       "      <td>0.110038</td>\n",
       "      <td>0.796352</td>\n",
       "      <td>...</td>\n",
       "      <td>0.793153</td>\n",
       "      <td>0.155752</td>\n",
       "      <td>0.447560</td>\n",
       "      <td>8.254675e-01</td>\n",
       "      <td>0.501214</td>\n",
       "      <td>8.991404</td>\n",
       "      <td>0.700686</td>\n",
       "      <td>-0.606691</td>\n",
       "      <td>1.367596</td>\n",
       "      <td>1</td>\n",
       "    </tr>\n",
       "    <tr>\n",
       "      <th>3</th>\n",
       "      <td>0.999910</td>\n",
       "      <td>0.707036</td>\n",
       "      <td>0.999910</td>\n",
       "      <td>0.707046</td>\n",
       "      <td>5.316222e-01</td>\n",
       "      <td>0.707041</td>\n",
       "      <td>0.937026</td>\n",
       "      <td>0.707034</td>\n",
       "      <td>0.325267</td>\n",
       "      <td>0.789565</td>\n",
       "      <td>...</td>\n",
       "      <td>0.716628</td>\n",
       "      <td>0.757299</td>\n",
       "      <td>0.315604</td>\n",
       "      <td>6.122590e-17</td>\n",
       "      <td>0.315621</td>\n",
       "      <td>8.273400</td>\n",
       "      <td>0.326139</td>\n",
       "      <td>0.111313</td>\n",
       "      <td>0.684095</td>\n",
       "      <td>1</td>\n",
       "    </tr>\n",
       "    <tr>\n",
       "      <th>4</th>\n",
       "      <td>0.512527</td>\n",
       "      <td>0.854831</td>\n",
       "      <td>0.999893</td>\n",
       "      <td>0.707051</td>\n",
       "      <td>6.122679e-17</td>\n",
       "      <td>0.707054</td>\n",
       "      <td>0.781595</td>\n",
       "      <td>0.350121</td>\n",
       "      <td>0.524829</td>\n",
       "      <td>0.999885</td>\n",
       "      <td>...</td>\n",
       "      <td>0.444587</td>\n",
       "      <td>0.189328</td>\n",
       "      <td>0.315615</td>\n",
       "      <td>7.070513e-01</td>\n",
       "      <td>0.315622</td>\n",
       "      <td>7.240050</td>\n",
       "      <td>0.329985</td>\n",
       "      <td>1.144663</td>\n",
       "      <td>0.757059</td>\n",
       "      <td>1</td>\n",
       "    </tr>\n",
       "  </tbody>\n",
       "</table>\n",
       "<p>5 rows × 30 columns</p>\n",
       "</div>"
      ],
      "text/plain": [
       "          A        B1        B2        B3            B4        B5        B6  \\\n",
       "0  0.699105  0.523597  0.845961  0.707071  7.070568e-01  0.935508  0.642501   \n",
       "1  0.999974  0.142582  0.707075  0.945545  9.999347e-01  0.707076  0.090803   \n",
       "2  0.999963  0.550400  0.597798  0.294841  4.276751e-01  0.999954  0.535919   \n",
       "3  0.999910  0.707036  0.999910  0.707046  5.316222e-01  0.707041  0.937026   \n",
       "4  0.512527  0.854831  0.999893  0.707051  6.122679e-17  0.707054  0.781595   \n",
       "\n",
       "         B7        B8        C1    ...           C12       C13       C14  \\\n",
       "0  0.942804  0.777002  0.757460    ...      0.734142  0.162051  0.526465   \n",
       "1  0.793582  0.169831  0.771725    ...      0.828063  0.471201  0.447688   \n",
       "2  0.581665  0.110038  0.796352    ...      0.793153  0.155752  0.447560   \n",
       "3  0.707034  0.325267  0.789565    ...      0.716628  0.757299  0.315604   \n",
       "4  0.350121  0.524829  0.999885    ...      0.444587  0.189328  0.315615   \n",
       "\n",
       "            C15       C16     mindep    cellav     allav    drange  Selection  \n",
       "0  7.070355e-01  0.728974  11.423400  0.301484 -3.038687  0.649180          1  \n",
       "1  7.367055e-01  0.568848   7.831703  0.886610  0.553010  2.147247          1  \n",
       "2  8.254675e-01  0.501214   8.991404  0.700686 -0.606691  1.367596          1  \n",
       "3  6.122590e-17  0.315621   8.273400  0.326139  0.111313  0.684095          1  \n",
       "4  7.070513e-01  0.315622   7.240050  0.329985  1.144663  0.757059          1  \n",
       "\n",
       "[5 rows x 30 columns]"
      ]
     },
     "execution_count": 21,
     "metadata": {},
     "output_type": "execute_result"
    }
   ],
   "source": [
    "result2.head()"
   ]
  },
  {
   "cell_type": "code",
   "execution_count": 22,
   "metadata": {
    "collapsed": true
   },
   "outputs": [],
   "source": [
    "# result3 = result2.drop(['Unnamed: 0'], axis=1)"
   ]
  },
  {
   "cell_type": "code",
   "execution_count": 23,
   "metadata": {
    "collapsed": true
   },
   "outputs": [],
   "source": [
    "# result3.reset_index(drop=True, inplace=True)\n"
   ]
  },
  {
   "cell_type": "code",
   "execution_count": 24,
   "metadata": {
    "collapsed": true
   },
   "outputs": [],
   "source": [
    "# selected = result2['Selection']\n",
    "# other = result2.drop(['Selection'], axis=1)"
   ]
  },
  {
   "cell_type": "code",
   "execution_count": 25,
   "metadata": {
    "collapsed": true
   },
   "outputs": [],
   "source": [
    "# selected.to_csv(path+\"final//MeanSelection_10m_o4p5b1.csv\")\n",
    "# other.to_csv(path+\"final//MeanOther_10m_o4p5b1.csv\")"
   ]
  },
  {
   "cell_type": "code",
   "execution_count": null,
   "metadata": {
    "collapsed": true
   },
   "outputs": [],
   "source": []
  },
  {
   "cell_type": "code",
   "execution_count": null,
   "metadata": {
    "collapsed": true
   },
   "outputs": [],
   "source": []
  }
 ],
 "metadata": {
  "kernelspec": {
   "display_name": "Python 3",
   "language": "python",
   "name": "python3"
  },
  "language_info": {
   "codemirror_mode": {
    "name": "ipython",
    "version": 3
   },
   "file_extension": ".py",
   "mimetype": "text/x-python",
   "name": "python",
   "nbconvert_exporter": "python",
   "pygments_lexer": "ipython3",
   "version": "3.6.1"
  }
 },
 "nbformat": 4,
 "nbformat_minor": 2
}
